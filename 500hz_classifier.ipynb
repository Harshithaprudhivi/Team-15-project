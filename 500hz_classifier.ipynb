{
  "cells": [
    {
      "cell_type": "markdown",
      "metadata": {
        "id": "view-in-github",
        "colab_type": "text"
      },
      "source": [
        "<a href=\"https://colab.research.google.com/github/Harshithaprudhivi/Team-15-project/blob/main/500hz_classifier.ipynb\" target=\"_parent\"><img src=\"https://colab.research.google.com/assets/colab-badge.svg\" alt=\"Open In Colab\"/></a>"
      ]
    },
    {
      "cell_type": "code",
      "execution_count": null,
      "metadata": {
        "colab": {
          "base_uri": "https://localhost:8080/"
        },
        "id": "Xkb1cwQbqn_d",
        "outputId": "8415f419-36a1-4763-a051-1c03281abd53"
      },
      "outputs": [
        {
          "output_type": "stream",
          "name": "stdout",
          "text": [
            "Drive already mounted at /content/drive; to attempt to forcibly remount, call drive.mount(\"/content/drive\", force_remount=True).\n"
          ]
        }
      ],
      "source": [
        "# STEP 1: Mount Drive and Load Data\n",
        "from google.colab import drive\n",
        "drive.mount('/content/drive')"
      ]
    },
    {
      "cell_type": "code",
      "source": [
        "# STEP 2: Imports\n",
        "import os\n",
        "import glob\n",
        "import numpy as np\n",
        "import pandas as pd\n",
        "from tqdm import tqdm\n",
        "from sklearn.preprocessing import MultiLabelBinarizer"
      ],
      "metadata": {
        "id": "EWV6CHzMFl8O"
      },
      "execution_count": null,
      "outputs": []
    },
    {
      "cell_type": "code",
      "source": [
        "# STEP 3: Set Paths\n",
        "data_path = \"/content/drive/MyDrive/PTB-data/npy_records500\"\n",
        "label_path = \"/content/drive/MyDrive/PTB-data/ptbxl_database.csv\"\n",
        "scp_path = \"/content/drive/MyDrive/PTB-data/scp_statements.csv\"\n",
        "output_path = \"/content/drive/MyDrive/PTB_classifier_chunks\"\n",
        "os.makedirs(output_path, exist_ok=True)"
      ],
      "metadata": {
        "id": "cUSPM_AUG7oh"
      },
      "execution_count": null,
      "outputs": []
    },
    {
      "cell_type": "code",
      "source": [
        "# STEP 4: Load metadata\n",
        "df = pd.read_csv(label_path)\n",
        "scp_statements = pd.read_csv(scp_path, index_col=0)\n"
      ],
      "metadata": {
        "id": "LY4Lgi4RIoRE"
      },
      "execution_count": null,
      "outputs": []
    },
    {
      "cell_type": "code",
      "source": [
        "# STEP 5: Get only diagnostic SCP codes\n",
        "diagnostic_codes = scp_statements[scp_statements['diagnostic'] == 1].index.tolist()\n",
        "print(\"✅ Diagnostic SCP codes used for classification:\")\n",
        "print(diagnostic_codes)\n",
        "\n"
      ],
      "metadata": {
        "colab": {
          "base_uri": "https://localhost:8080/"
        },
        "id": "WaFZ_gIVJWqL",
        "outputId": "45f75ac3-cd27-42a6-ed59-da75c5e1c37a"
      },
      "execution_count": null,
      "outputs": [
        {
          "output_type": "stream",
          "name": "stdout",
          "text": [
            "✅ Diagnostic SCP codes used for classification:\n",
            "['NDT', 'NST_', 'DIG', 'LNGQT', 'NORM', 'IMI', 'ASMI', 'LVH', 'LAFB', 'ISC_', 'IRBBB', '1AVB', 'IVCD', 'ISCAL', 'CRBBB', 'CLBBB', 'ILMI', 'LAO/LAE', 'AMI', 'ALMI', 'ISCIN', 'INJAS', 'LMI', 'ISCIL', 'LPFB', 'ISCAS', 'INJAL', 'ISCLA', 'RVH', 'ANEUR', 'RAO/RAE', 'EL', 'WPW', 'ILBBB', 'IPLMI', 'ISCAN', 'IPMI', 'SEHYP', 'INJIN', 'INJLA', 'PMI', '3AVB', 'INJIL', '2AVB']\n"
          ]
        }
      ]
    },
    {
      "cell_type": "code",
      "source": [
        "\n",
        "# STEP 6: Filter ECGs that contain at least one diagnostic SCP code\n",
        "filtered_df = df[df['scp_codes'].map(lambda d: any(k in diagnostic_codes for k in eval(d).keys()))]\n",
        "print(f\"✅ Filtered dataframe shape: {filtered_df.shape}\")\n"
      ],
      "metadata": {
        "colab": {
          "base_uri": "https://localhost:8080/"
        },
        "id": "xZB3v1XXJhev",
        "outputId": "2442334c-125f-4be2-cd3e-438b4092f942"
      },
      "execution_count": null,
      "outputs": [
        {
          "output_type": "stream",
          "name": "stdout",
          "text": [
            "✅ Filtered dataframe shape: (21430, 28)\n"
          ]
        }
      ]
    },
    {
      "cell_type": "code",
      "source": [
        "# STEP 7: Encode labels\n",
        "all_labels = []\n",
        "for scp_dict in filtered_df['scp_codes']:\n",
        "    labels = [k for k in eval(scp_dict).keys() if k in diagnostic_codes]\n",
        "    all_labels.append(labels)\n",
        "\n",
        "mlb = MultiLabelBinarizer()\n",
        "Y = mlb.fit_transform(all_labels)\n",
        "print(f\"✅ Y shape: {Y.shape}\")"
      ],
      "metadata": {
        "colab": {
          "base_uri": "https://localhost:8080/"
        },
        "id": "ttkxJmBwMMzD",
        "outputId": "44e3a97d-debb-44ea-a3c1-8fde592951b9"
      },
      "execution_count": null,
      "outputs": [
        {
          "output_type": "stream",
          "name": "stdout",
          "text": [
            "✅ Y shape: (21430, 44)\n"
          ]
        }
      ]
    },
    {
      "cell_type": "code",
      "source": [
        "# STEP 8: Load matching ECG signal files and store them in chunks\n",
        "X = []\n",
        "Y_final = []\n",
        "chunk_size = 1000  # adjust based on RAM\n",
        "chunk_idx = 0\n",
        "\n",
        "ecg_ids = filtered_df['ecg_id'].values\n",
        "label_index = 0  # to track correct row in Y"
      ],
      "metadata": {
        "id": "zDnjwS48qvoY"
      },
      "execution_count": null,
      "outputs": []
    },
    {
      "cell_type": "code",
      "source": [
        "for rid in tqdm(ecg_ids, desc=\"📥 Processing ECGs\"):\n",
        "    try:\n",
        "        # Search recursively in subfolders for matching .npy file\n",
        "        pattern = os.path.join(data_path, \"**\", f\"{int(rid):05d}_hr.npy\")\n",
        "        matches = glob.glob(pattern, recursive=True)\n",
        "\n",
        "        if not matches:\n",
        "            print(f\"❌ Missing: {rid}_hr.npy\")\n",
        "            continue\n",
        "\n",
        "        file_path = matches[0]\n",
        "        x = np.load(file_path)\n",
        "\n",
        "        # Ensure the shape is correct\n",
        "        if x.shape != (5000, 12):\n",
        "            print(f\"⚠️ Skipping {rid}: Invalid shape {x.shape}\")\n",
        "            continue\n",
        "\n",
        "        X.append(x)\n",
        "        Y_final.append(Y[label_index])\n",
        "\n",
        "        # Save chunk if full\n",
        "        if len(X) == chunk_size:\n",
        "            np.save(os.path.join(output_path, f\"X_classifier_500Hz_chunk_{chunk_idx}.npy\"), np.array(X))\n",
        "            np.save(os.path.join(output_path, f\"Y_classifier_500Hz_chunk_{chunk_idx}.npy\"), np.array(Y_final))\n",
        "            print(f\"💾 Saved chunk {chunk_idx}\")\n",
        "            X, Y_final = [], []\n",
        "            chunk_idx += 1\n",
        "\n",
        "    except Exception as e:\n",
        "        print(f\"❌ Error processing {rid}: {e}\")\n",
        "\n",
        "    label_index += 1\n"
      ],
      "metadata": {
        "colab": {
          "base_uri": "https://localhost:8080/"
        },
        "id": "RJpEc085qvfM",
        "outputId": "28c287bb-1f1e-4142-cf9a-e5c89e847b5b"
      },
      "execution_count": null,
      "outputs": [
        {
          "metadata": {
            "tags": null
          },
          "name": "stderr",
          "output_type": "stream",
          "text": [
            "📥 Processing ECGs:   5%|▍         | 1000/21430 [10:53<51:35:54,  9.09s/it]"
          ]
        },
        {
          "metadata": {
            "tags": null
          },
          "name": "stdout",
          "output_type": "stream",
          "text": [
            "💾 Saved chunk 0\n"
          ]
        },
        {
          "metadata": {
            "tags": null
          },
          "name": "stderr",
          "output_type": "stream",
          "text": [
            "📥 Processing ECGs:   9%|▉         | 2000/21430 [21:22<22:49:02,  4.23s/it]"
          ]
        },
        {
          "metadata": {
            "tags": null
          },
          "name": "stdout",
          "output_type": "stream",
          "text": [
            "💾 Saved chunk 1\n"
          ]
        },
        {
          "metadata": {
            "tags": null
          },
          "name": "stderr",
          "output_type": "stream",
          "text": [
            "📥 Processing ECGs:  14%|█▍        | 3000/21430 [32:12<20:29:20,  4.00s/it]"
          ]
        },
        {
          "metadata": {
            "tags": null
          },
          "name": "stdout",
          "output_type": "stream",
          "text": [
            "💾 Saved chunk 2\n"
          ]
        },
        {
          "metadata": {
            "tags": null
          },
          "name": "stderr",
          "output_type": "stream",
          "text": [
            "📥 Processing ECGs:  19%|█▊        | 4000/21430 [42:55<14:34:27,  3.01s/it]"
          ]
        },
        {
          "metadata": {
            "tags": null
          },
          "name": "stdout",
          "output_type": "stream",
          "text": [
            "💾 Saved chunk 3\n"
          ]
        },
        {
          "metadata": {
            "tags": null
          },
          "name": "stderr",
          "output_type": "stream",
          "text": [
            "📥 Processing ECGs:  23%|██▎       | 5000/21430 [54:18<7:33:32,  1.66s/it]"
          ]
        },
        {
          "metadata": {
            "tags": null
          },
          "name": "stdout",
          "output_type": "stream",
          "text": [
            "💾 Saved chunk 4\n"
          ]
        },
        {
          "metadata": {
            "tags": null
          },
          "name": "stderr",
          "output_type": "stream",
          "text": [
            "📥 Processing ECGs:  28%|██▊       | 6000/21430 [1:03:46<12:29:55,  2.92s/it]"
          ]
        },
        {
          "metadata": {
            "tags": null
          },
          "name": "stdout",
          "output_type": "stream",
          "text": [
            "💾 Saved chunk 5\n"
          ]
        },
        {
          "metadata": {
            "tags": null
          },
          "name": "stderr",
          "output_type": "stream",
          "text": [
            "📥 Processing ECGs:  33%|███▎      | 7000/21430 [1:13:33<7:15:48,  1.81s/it]"
          ]
        },
        {
          "metadata": {
            "tags": null
          },
          "name": "stdout",
          "output_type": "stream",
          "text": [
            "💾 Saved chunk 6\n"
          ]
        },
        {
          "metadata": {
            "tags": null
          },
          "name": "stderr",
          "output_type": "stream",
          "text": [
            "📥 Processing ECGs:  37%|███▋      | 8000/21430 [1:23:43<5:47:42,  1.55s/it]"
          ]
        },
        {
          "metadata": {
            "tags": null
          },
          "name": "stdout",
          "output_type": "stream",
          "text": [
            "💾 Saved chunk 7\n"
          ]
        },
        {
          "metadata": {
            "tags": null
          },
          "name": "stderr",
          "output_type": "stream",
          "text": [
            "📥 Processing ECGs:  42%|████▏     | 9000/21430 [1:34:47<9:36:29,  2.78s/it]"
          ]
        },
        {
          "metadata": {
            "tags": null
          },
          "name": "stdout",
          "output_type": "stream",
          "text": [
            "💾 Saved chunk 8\n"
          ]
        },
        {
          "metadata": {
            "tags": null
          },
          "name": "stderr",
          "output_type": "stream",
          "text": [
            "📥 Processing ECGs:  47%|████▋     | 10000/21430 [1:45:48<5:46:13,  1.82s/it]"
          ]
        },
        {
          "metadata": {
            "tags": null
          },
          "name": "stdout",
          "output_type": "stream",
          "text": [
            "💾 Saved chunk 9\n"
          ]
        },
        {
          "metadata": {
            "tags": null
          },
          "name": "stderr",
          "output_type": "stream",
          "text": [
            "📥 Processing ECGs:  51%|█████▏    | 11000/21430 [1:57:05<7:12:18,  2.49s/it]"
          ]
        },
        {
          "metadata": {
            "tags": null
          },
          "name": "stdout",
          "output_type": "stream",
          "text": [
            "💾 Saved chunk 10\n"
          ]
        },
        {
          "metadata": {
            "tags": null
          },
          "name": "stderr",
          "output_type": "stream",
          "text": [
            "📥 Processing ECGs:  56%|█████▌    | 12000/21430 [2:09:34<5:00:41,  1.91s/it]"
          ]
        },
        {
          "metadata": {
            "tags": null
          },
          "name": "stdout",
          "output_type": "stream",
          "text": [
            "💾 Saved chunk 11\n"
          ]
        },
        {
          "metadata": {
            "tags": null
          },
          "name": "stderr",
          "output_type": "stream",
          "text": [
            "📥 Processing ECGs:  58%|█████▊    | 12521/21430 [2:14:46<1:04:34,  2.30it/s]"
          ]
        },
        {
          "metadata": {
            "tags": null
          },
          "name": "stdout",
          "output_type": "stream",
          "text": [
            "❌ Error processing 12710: No data left in file\n"
          ]
        },
        {
          "metadata": {
            "tags": null
          },
          "name": "stderr",
          "output_type": "stream",
          "text": [
            "📥 Processing ECGs:  61%|██████    | 13001/21430 [2:19:55<6:28:03,  2.76s/it]"
          ]
        },
        {
          "metadata": {
            "tags": null
          },
          "name": "stdout",
          "output_type": "stream",
          "text": [
            "💾 Saved chunk 12\n"
          ]
        },
        {
          "metadata": {
            "tags": null
          },
          "name": "stderr",
          "output_type": "stream",
          "text": [
            "📥 Processing ECGs:  65%|██████▌   | 14001/21430 [2:30:48<3:39:54,  1.78s/it]"
          ]
        },
        {
          "metadata": {
            "tags": null
          },
          "name": "stdout",
          "output_type": "stream",
          "text": [
            "💾 Saved chunk 13\n"
          ]
        },
        {
          "output_type": "stream",
          "name": "stderr",
          "text": [
            "📥 Processing ECGs:  70%|███████   | 15001/21430 [2:42:39<4:44:34,  2.66s/it]"
          ]
        },
        {
          "output_type": "stream",
          "name": "stdout",
          "text": [
            "💾 Saved chunk 14\n"
          ]
        },
        {
          "output_type": "stream",
          "name": "stderr",
          "text": [
            "📥 Processing ECGs:  75%|███████▍  | 16001/21430 [2:54:08<4:33:49,  3.03s/it]"
          ]
        },
        {
          "output_type": "stream",
          "name": "stdout",
          "text": [
            "💾 Saved chunk 15\n"
          ]
        },
        {
          "output_type": "stream",
          "name": "stderr",
          "text": [
            "📥 Processing ECGs:  79%|███████▉  | 17001/21430 [3:04:43<2:40:48,  2.18s/it]"
          ]
        },
        {
          "output_type": "stream",
          "name": "stdout",
          "text": [
            "💾 Saved chunk 16\n"
          ]
        },
        {
          "output_type": "stream",
          "name": "stderr",
          "text": [
            "📥 Processing ECGs:  84%|████████▍ | 18001/21430 [3:16:05<2:01:49,  2.13s/it]"
          ]
        },
        {
          "output_type": "stream",
          "name": "stdout",
          "text": [
            "💾 Saved chunk 17\n"
          ]
        },
        {
          "output_type": "stream",
          "name": "stderr",
          "text": [
            "📥 Processing ECGs:  89%|████████▊ | 19001/21430 [3:28:04<1:23:24,  2.06s/it]"
          ]
        },
        {
          "output_type": "stream",
          "name": "stdout",
          "text": [
            "💾 Saved chunk 18\n"
          ]
        },
        {
          "output_type": "stream",
          "name": "stderr",
          "text": [
            "📥 Processing ECGs:  93%|█████████▎| 20001/21430 [3:40:04<1:46:29,  4.47s/it]"
          ]
        },
        {
          "output_type": "stream",
          "name": "stdout",
          "text": [
            "💾 Saved chunk 19\n"
          ]
        },
        {
          "output_type": "stream",
          "name": "stderr",
          "text": [
            "📥 Processing ECGs:  98%|█████████▊| 21001/21430 [3:52:03<18:19,  2.56s/it]"
          ]
        },
        {
          "output_type": "stream",
          "name": "stdout",
          "text": [
            "💾 Saved chunk 20\n"
          ]
        },
        {
          "output_type": "stream",
          "name": "stderr",
          "text": [
            "📥 Processing ECGs: 100%|██████████| 21430/21430 [3:56:30<00:00,  1.51it/s]\n"
          ]
        }
      ]
    },
    {
      "cell_type": "code",
      "source": [
        "# Save remaining data if any\n",
        "if X:\n",
        "    np.save(os.path.join(output_path, f\"X_classifier_500Hz_chunk_{chunk_idx}.npy\"), np.array(X))\n",
        "    np.save(os.path.join(output_path, f\"Y_classifier_500Hz_chunk_{chunk_idx}.npy\"), np.array(Y_final))\n",
        "    print(f\"💾 Saved final chunk {chunk_idx}\")"
      ],
      "metadata": {
        "colab": {
          "base_uri": "https://localhost:8080/"
        },
        "id": "2tOs5Jtnqvbq",
        "outputId": "3ef18124-4bba-4147-ec83-1b66da4d9502"
      },
      "execution_count": null,
      "outputs": [
        {
          "output_type": "stream",
          "name": "stdout",
          "text": [
            "💾 Saved final chunk 21\n"
          ]
        }
      ]
    },
    {
      "cell_type": "code",
      "source": [
        "from tensorflow.keras.models import Sequential\n",
        "from tensorflow.keras.layers import Conv1D, MaxPooling1D, LSTM, Dense, Dropout, GlobalAveragePooling1D\n",
        "from tensorflow.keras.callbacks import ModelCheckpoint, EarlyStopping\n",
        "from sklearn.model_selection import train_test_split\n"
      ],
      "metadata": {
        "id": "IJ9AJgKOqvY8"
      },
      "execution_count": null,
      "outputs": []
    },
    {
      "cell_type": "code",
      "source": [
        "chunk_path = \"/content/drive/MyDrive/PTB_classifier_chunks\"\n",
        "model_save_path = \"/content/drive/MyDrive/PTB_model/classifier_500Hz.keras\"\n"
      ],
      "metadata": {
        "id": "ZSTR-v4QqvWG"
      },
      "execution_count": null,
      "outputs": []
    },
    {
      "cell_type": "code",
      "source": [
        "# Get all chunk files\n",
        "x_files = sorted([f for f in os.listdir(chunk_path) if f.startswith(\"X_classifier\")])\n",
        "y_files = sorted([f for f in os.listdir(chunk_path) if f.startswith(\"Y_classifier\")])\n"
      ],
      "metadata": {
        "id": "WXZ_kW1vqvTc"
      },
      "execution_count": null,
      "outputs": []
    },
    {
      "cell_type": "code",
      "source": [
        "# Define model\n",
        "def build_classifier(input_shape, output_dim):\n",
        "    model = Sequential([\n",
        "        Conv1D(64, kernel_size=7, activation='relu', input_shape=input_shape),\n",
        "        MaxPooling1D(pool_size=2),\n",
        "        Conv1D(128, kernel_size=5, activation='relu'),\n",
        "        MaxPooling1D(pool_size=2),\n",
        "        LSTM(64, return_sequences=True),\n",
        "        GlobalAveragePooling1D(),\n",
        "        Dropout(0.3),\n",
        "        Dense(output_dim, activation='sigmoid')\n",
        "    ])\n",
        "    model.compile(optimizer='adam', loss='binary_crossentropy', metrics=['accuracy'])\n",
        "    return model"
      ],
      "metadata": {
        "id": "Mo4HGmC6qvQr"
      },
      "execution_count": null,
      "outputs": []
    },
    {
      "cell_type": "code",
      "source": [
        "# First chunk (to get input/output shape)\n",
        "X_sample = np.load(os.path.join(chunk_path, x_files[0]))\n",
        "Y_sample = np.load(os.path.join(chunk_path, y_files[0]))\n"
      ],
      "metadata": {
        "id": "Ou5KOraXjqBo"
      },
      "execution_count": null,
      "outputs": []
    },
    {
      "cell_type": "code",
      "source": [
        "model = build_classifier(input_shape=X_sample.shape[1:], output_dim=Y_sample.shape[1])"
      ],
      "metadata": {
        "colab": {
          "base_uri": "https://localhost:8080/"
        },
        "id": "vM6Uo0mzjp-W",
        "outputId": "59d76046-d138-494c-a589-1d5da7118503"
      },
      "execution_count": null,
      "outputs": [
        {
          "output_type": "stream",
          "name": "stderr",
          "text": [
            "/usr/local/lib/python3.11/dist-packages/keras/src/layers/convolutional/base_conv.py:107: UserWarning: Do not pass an `input_shape`/`input_dim` argument to a layer. When using Sequential models, prefer using an `Input(shape)` object as the first layer in the model instead.\n",
            "  super().__init__(activity_regularizer=activity_regularizer, **kwargs)\n"
          ]
        }
      ]
    },
    {
      "cell_type": "code",
      "source": [
        "# Callbacks\n",
        "checkpoint = ModelCheckpoint(model_save_path, monitor='val_loss', save_best_only=True, verbose=1)\n",
        "early_stop = EarlyStopping(monitor='val_loss', patience=3, restore_best_weights=True)\n"
      ],
      "metadata": {
        "id": "bYOl8ZHbjp74"
      },
      "execution_count": null,
      "outputs": []
    },
    {
      "cell_type": "code",
      "source": [
        "# Training loop\n",
        "for i in range(len(x_files)):\n",
        "    print(f\"\\n📦 Loading chunk {i+1}/{len(x_files)}\")\n",
        "\n",
        "    X = np.load(os.path.join(chunk_path, x_files[i]))\n",
        "    Y = np.load(os.path.join(chunk_path, y_files[i]))\n",
        "\n",
        "    # Split into train/val\n",
        "    X_train, X_val, Y_train, Y_val = train_test_split(X, Y, test_size=0.1, random_state=42)\n",
        "\n",
        "    print(f\"📊 Training on chunk {i+1} - Shape: {X_train.shape}, Labels: {Y_train.shape}\")\n",
        "\n",
        "    model.fit(X_train, Y_train,\n",
        "              validation_data=(X_val, Y_val),\n",
        "              epochs=10,\n",
        "              batch_size=32,\n",
        "              callbacks=[checkpoint, early_stop],\n",
        "              verbose=1)\n",
        "\n",
        "print(\"\\n✅ Training complete. Best model saved at:\")\n",
        "print(model_save_path)"
      ],
      "metadata": {
        "colab": {
          "base_uri": "https://localhost:8080/"
        },
        "id": "gAMzNuXnjp5E",
        "outputId": "4f132313-d150-4ef8-aab5-f56670f45bb3"
      },
      "execution_count": null,
      "outputs": [
        {
          "output_type": "stream",
          "name": "stdout",
          "text": [
            "\n",
            "📦 Loading chunk 1/22\n",
            "📊 Training on chunk 1 - Shape: (900, 5000, 12), Labels: (900, 44)\n",
            "Epoch 1/10\n",
            "\u001b[1m29/29\u001b[0m \u001b[32m━━━━━━━━━━━━━━━━━━━━\u001b[0m\u001b[37m\u001b[0m \u001b[1m0s\u001b[0m 2s/step - accuracy: 0.0489 - loss: 0.5755\n",
            "Epoch 1: val_loss improved from inf to 0.18380, saving model to /content/drive/MyDrive/PTB_model/classifier_500Hz.keras\n",
            "\u001b[1m29/29\u001b[0m \u001b[32m━━━━━━━━━━━━━━━━━━━━\u001b[0m\u001b[37m\u001b[0m \u001b[1m63s\u001b[0m 2s/step - accuracy: 0.0514 - loss: 0.5712 - val_accuracy: 0.5300 - val_loss: 0.1838\n",
            "Epoch 2/10\n",
            "\u001b[1m29/29\u001b[0m \u001b[32m━━━━━━━━━━━━━━━━━━━━\u001b[0m\u001b[37m\u001b[0m \u001b[1m0s\u001b[0m 2s/step - accuracy: 0.4982 - loss: 0.1611\n",
            "Epoch 2: val_loss improved from 0.18380 to 0.11562, saving model to /content/drive/MyDrive/PTB_model/classifier_500Hz.keras\n",
            "\u001b[1m29/29\u001b[0m \u001b[32m━━━━━━━━━━━━━━━━━━━━\u001b[0m\u001b[37m\u001b[0m \u001b[1m80s\u001b[0m 2s/step - accuracy: 0.4980 - loss: 0.1606 - val_accuracy: 0.5300 - val_loss: 0.1156\n",
            "Epoch 3/10\n",
            "\u001b[1m29/29\u001b[0m \u001b[32m━━━━━━━━━━━━━━━━━━━━\u001b[0m\u001b[37m\u001b[0m \u001b[1m0s\u001b[0m 2s/step - accuracy: 0.4908 - loss: 0.1197\n",
            "Epoch 3: val_loss improved from 0.11562 to 0.10771, saving model to /content/drive/MyDrive/PTB_model/classifier_500Hz.keras\n",
            "\u001b[1m29/29\u001b[0m \u001b[32m━━━━━━━━━━━━━━━━━━━━\u001b[0m\u001b[37m\u001b[0m \u001b[1m80s\u001b[0m 2s/step - accuracy: 0.4916 - loss: 0.1195 - val_accuracy: 0.5300 - val_loss: 0.1077\n",
            "Epoch 4/10\n",
            "\u001b[1m29/29\u001b[0m \u001b[32m━━━━━━━━━━━━━━━━━━━━\u001b[0m\u001b[37m\u001b[0m \u001b[1m0s\u001b[0m 2s/step - accuracy: 0.5369 - loss: 0.1057\n",
            "Epoch 4: val_loss improved from 0.10771 to 0.10611, saving model to /content/drive/MyDrive/PTB_model/classifier_500Hz.keras\n",
            "\u001b[1m29/29\u001b[0m \u001b[32m━━━━━━━━━━━━━━━━━━━━\u001b[0m\u001b[37m\u001b[0m \u001b[1m80s\u001b[0m 2s/step - accuracy: 0.5363 - loss: 0.1058 - val_accuracy: 0.5300 - val_loss: 0.1061\n",
            "Epoch 5/10\n",
            "\u001b[1m29/29\u001b[0m \u001b[32m━━━━━━━━━━━━━━━━━━━━\u001b[0m\u001b[37m\u001b[0m \u001b[1m0s\u001b[0m 2s/step - accuracy: 0.5167 - loss: 0.1019\n",
            "Epoch 5: val_loss improved from 0.10611 to 0.10495, saving model to /content/drive/MyDrive/PTB_model/classifier_500Hz.keras\n",
            "\u001b[1m29/29\u001b[0m \u001b[32m━━━━━━━━━━━━━━━━━━━━\u001b[0m\u001b[37m\u001b[0m \u001b[1m66s\u001b[0m 2s/step - accuracy: 0.5168 - loss: 0.1020 - val_accuracy: 0.5300 - val_loss: 0.1049\n",
            "Epoch 6/10\n",
            "\u001b[1m29/29\u001b[0m \u001b[32m━━━━━━━━━━━━━━━━━━━━\u001b[0m\u001b[37m\u001b[0m \u001b[1m0s\u001b[0m 2s/step - accuracy: 0.5096 - loss: 0.1068\n",
            "Epoch 6: val_loss improved from 0.10495 to 0.10439, saving model to /content/drive/MyDrive/PTB_model/classifier_500Hz.keras\n",
            "\u001b[1m29/29\u001b[0m \u001b[32m━━━━━━━━━━━━━━━━━━━━\u001b[0m\u001b[37m\u001b[0m \u001b[1m74s\u001b[0m 2s/step - accuracy: 0.5101 - loss: 0.1067 - val_accuracy: 0.5300 - val_loss: 0.1044\n",
            "Epoch 7/10\n",
            "\u001b[1m29/29\u001b[0m \u001b[32m━━━━━━━━━━━━━━━━━━━━\u001b[0m\u001b[37m\u001b[0m \u001b[1m0s\u001b[0m 2s/step - accuracy: 0.5047 - loss: 0.1056\n",
            "Epoch 7: val_loss improved from 0.10439 to 0.10389, saving model to /content/drive/MyDrive/PTB_model/classifier_500Hz.keras\n",
            "\u001b[1m29/29\u001b[0m \u001b[32m━━━━━━━━━━━━━━━━━━━━\u001b[0m\u001b[37m\u001b[0m \u001b[1m81s\u001b[0m 2s/step - accuracy: 0.5053 - loss: 0.1055 - val_accuracy: 0.5300 - val_loss: 0.1039\n",
            "Epoch 8/10\n",
            "\u001b[1m29/29\u001b[0m \u001b[32m━━━━━━━━━━━━━━━━━━━━\u001b[0m\u001b[37m\u001b[0m \u001b[1m0s\u001b[0m 2s/step - accuracy: 0.5302 - loss: 0.1035\n",
            "Epoch 8: val_loss did not improve from 0.10389\n",
            "\u001b[1m29/29\u001b[0m \u001b[32m━━━━━━━━━━━━━━━━━━━━\u001b[0m\u001b[37m\u001b[0m \u001b[1m82s\u001b[0m 2s/step - accuracy: 0.5300 - loss: 0.1035 - val_accuracy: 0.5300 - val_loss: 0.1040\n",
            "Epoch 9/10\n",
            "\u001b[1m29/29\u001b[0m \u001b[32m━━━━━━━━━━━━━━━━━━━━\u001b[0m\u001b[37m\u001b[0m \u001b[1m0s\u001b[0m 2s/step - accuracy: 0.5437 - loss: 0.1002\n",
            "Epoch 9: val_loss improved from 0.10389 to 0.10348, saving model to /content/drive/MyDrive/PTB_model/classifier_500Hz.keras\n",
            "\u001b[1m29/29\u001b[0m \u001b[32m━━━━━━━━━━━━━━━━━━━━\u001b[0m\u001b[37m\u001b[0m \u001b[1m84s\u001b[0m 2s/step - accuracy: 0.5430 - loss: 0.1003 - val_accuracy: 0.5300 - val_loss: 0.1035\n",
            "Epoch 10/10\n",
            "\u001b[1m29/29\u001b[0m \u001b[32m━━━━━━━━━━━━━━━━━━━━\u001b[0m\u001b[37m\u001b[0m \u001b[1m0s\u001b[0m 2s/step - accuracy: 0.5057 - loss: 0.1033\n",
            "Epoch 10: val_loss improved from 0.10348 to 0.10302, saving model to /content/drive/MyDrive/PTB_model/classifier_500Hz.keras\n",
            "\u001b[1m29/29\u001b[0m \u001b[32m━━━━━━━━━━━━━━━━━━━━\u001b[0m\u001b[37m\u001b[0m \u001b[1m83s\u001b[0m 2s/step - accuracy: 0.5062 - loss: 0.1033 - val_accuracy: 0.5300 - val_loss: 0.1030\n",
            "\n",
            "📦 Loading chunk 2/22\n",
            "📊 Training on chunk 2 - Shape: (900, 5000, 12), Labels: (900, 44)\n",
            "Epoch 1/10\n",
            "\u001b[1m29/29\u001b[0m \u001b[32m━━━━━━━━━━━━━━━━━━━━\u001b[0m\u001b[37m\u001b[0m \u001b[1m0s\u001b[0m 2s/step - accuracy: 0.5078 - loss: 0.1013\n",
            "Epoch 1: val_loss improved from 0.10302 to 0.10026, saving model to /content/drive/MyDrive/PTB_model/classifier_500Hz.keras\n",
            "\u001b[1m29/29\u001b[0m \u001b[32m━━━━━━━━━━━━━━━━━━━━\u001b[0m\u001b[37m\u001b[0m \u001b[1m56s\u001b[0m 2s/step - accuracy: 0.5076 - loss: 0.1014 - val_accuracy: 0.5100 - val_loss: 0.1003\n",
            "Epoch 2/10\n",
            "\u001b[1m29/29\u001b[0m \u001b[32m━━━━━━━━━━━━━━━━━━━━\u001b[0m\u001b[37m\u001b[0m \u001b[1m0s\u001b[0m 2s/step - accuracy: 0.4789 - loss: 0.1063\n",
            "Epoch 2: val_loss improved from 0.10026 to 0.09982, saving model to /content/drive/MyDrive/PTB_model/classifier_500Hz.keras\n",
            "\u001b[1m29/29\u001b[0m \u001b[32m━━━━━━━━━━━━━━━━━━━━\u001b[0m\u001b[37m\u001b[0m \u001b[1m57s\u001b[0m 2s/step - accuracy: 0.4797 - loss: 0.1061 - val_accuracy: 0.5100 - val_loss: 0.0998\n",
            "Epoch 3/10\n",
            "\u001b[1m29/29\u001b[0m \u001b[32m━━━━━━━━━━━━━━━━━━━━\u001b[0m\u001b[37m\u001b[0m \u001b[1m0s\u001b[0m 2s/step - accuracy: 0.5097 - loss: 0.1008\n",
            "Epoch 3: val_loss improved from 0.09982 to 0.09962, saving model to /content/drive/MyDrive/PTB_model/classifier_500Hz.keras\n",
            "\u001b[1m29/29\u001b[0m \u001b[32m━━━━━━━━━━━━━━━━━━━━\u001b[0m\u001b[37m\u001b[0m \u001b[1m90s\u001b[0m 2s/step - accuracy: 0.5095 - loss: 0.1008 - val_accuracy: 0.5100 - val_loss: 0.0996\n",
            "Epoch 4/10\n",
            "\u001b[1m29/29\u001b[0m \u001b[32m━━━━━━━━━━━━━━━━━━━━\u001b[0m\u001b[37m\u001b[0m \u001b[1m0s\u001b[0m 2s/step - accuracy: 0.5124 - loss: 0.0966\n",
            "Epoch 4: val_loss improved from 0.09962 to 0.09903, saving model to /content/drive/MyDrive/PTB_model/classifier_500Hz.keras\n",
            "\u001b[1m29/29\u001b[0m \u001b[32m━━━━━━━━━━━━━━━━━━━━\u001b[0m\u001b[37m\u001b[0m \u001b[1m73s\u001b[0m 2s/step - accuracy: 0.5120 - loss: 0.0967 - val_accuracy: 0.5100 - val_loss: 0.0990\n",
            "Epoch 5/10\n",
            "\u001b[1m29/29\u001b[0m \u001b[32m━━━━━━━━━━━━━━━━━━━━\u001b[0m\u001b[37m\u001b[0m \u001b[1m0s\u001b[0m 2s/step - accuracy: 0.4939 - loss: 0.1006\n",
            "Epoch 5: val_loss improved from 0.09903 to 0.09873, saving model to /content/drive/MyDrive/PTB_model/classifier_500Hz.keras\n",
            "\u001b[1m29/29\u001b[0m \u001b[32m━━━━━━━━━━━━━━━━━━━━\u001b[0m\u001b[37m\u001b[0m \u001b[1m83s\u001b[0m 2s/step - accuracy: 0.4943 - loss: 0.1006 - val_accuracy: 0.5100 - val_loss: 0.0987\n",
            "Epoch 6/10\n",
            "\u001b[1m29/29\u001b[0m \u001b[32m━━━━━━━━━━━━━━━━━━━━\u001b[0m\u001b[37m\u001b[0m \u001b[1m0s\u001b[0m 2s/step - accuracy: 0.4805 - loss: 0.1026\n",
            "Epoch 6: val_loss improved from 0.09873 to 0.09805, saving model to /content/drive/MyDrive/PTB_model/classifier_500Hz.keras\n",
            "\u001b[1m29/29\u001b[0m \u001b[32m━━━━━━━━━━━━━━━━━━━━\u001b[0m\u001b[37m\u001b[0m \u001b[1m80s\u001b[0m 2s/step - accuracy: 0.4813 - loss: 0.1025 - val_accuracy: 0.5100 - val_loss: 0.0980\n",
            "Epoch 7/10\n",
            "\u001b[1m29/29\u001b[0m \u001b[32m━━━━━━━━━━━━━━━━━━━━\u001b[0m\u001b[37m\u001b[0m \u001b[1m0s\u001b[0m 2s/step - accuracy: 0.4818 - loss: 0.1028\n",
            "Epoch 7: val_loss improved from 0.09805 to 0.09667, saving model to /content/drive/MyDrive/PTB_model/classifier_500Hz.keras\n",
            "\u001b[1m29/29\u001b[0m \u001b[32m━━━━━━━━━━━━━━━━━━━━\u001b[0m\u001b[37m\u001b[0m \u001b[1m55s\u001b[0m 2s/step - accuracy: 0.4825 - loss: 0.1026 - val_accuracy: 0.5100 - val_loss: 0.0967\n",
            "Epoch 8/10\n",
            "\u001b[1m29/29\u001b[0m \u001b[32m━━━━━━━━━━━━━━━━━━━━\u001b[0m\u001b[37m\u001b[0m \u001b[1m0s\u001b[0m 2s/step - accuracy: 0.5012 - loss: 0.0988\n",
            "Epoch 8: val_loss improved from 0.09667 to 0.09511, saving model to /content/drive/MyDrive/PTB_model/classifier_500Hz.keras\n",
            "\u001b[1m29/29\u001b[0m \u001b[32m━━━━━━━━━━━━━━━━━━━━\u001b[0m\u001b[37m\u001b[0m \u001b[1m85s\u001b[0m 2s/step - accuracy: 0.5013 - loss: 0.0988 - val_accuracy: 0.5100 - val_loss: 0.0951\n",
            "Epoch 9/10\n",
            "\u001b[1m29/29\u001b[0m \u001b[32m━━━━━━━━━━━━━━━━━━━━\u001b[0m\u001b[37m\u001b[0m \u001b[1m0s\u001b[0m 2s/step - accuracy: 0.4897 - loss: 0.0976\n",
            "Epoch 9: val_loss improved from 0.09511 to 0.09441, saving model to /content/drive/MyDrive/PTB_model/classifier_500Hz.keras\n",
            "\u001b[1m29/29\u001b[0m \u001b[32m━━━━━━━━━━━━━━━━━━━━\u001b[0m\u001b[37m\u001b[0m \u001b[1m80s\u001b[0m 2s/step - accuracy: 0.4903 - loss: 0.0975 - val_accuracy: 0.5100 - val_loss: 0.0944\n",
            "Epoch 10/10\n",
            "\u001b[1m29/29\u001b[0m \u001b[32m━━━━━━━━━━━━━━━━━━━━\u001b[0m\u001b[37m\u001b[0m \u001b[1m0s\u001b[0m 2s/step - accuracy: 0.5162 - loss: 0.0935\n",
            "Epoch 10: val_loss improved from 0.09441 to 0.09371, saving model to /content/drive/MyDrive/PTB_model/classifier_500Hz.keras\n",
            "\u001b[1m29/29\u001b[0m \u001b[32m━━━━━━━━━━━━━━━━━━━━\u001b[0m\u001b[37m\u001b[0m \u001b[1m56s\u001b[0m 2s/step - accuracy: 0.5158 - loss: 0.0935 - val_accuracy: 0.5100 - val_loss: 0.0937\n",
            "\n",
            "📦 Loading chunk 3/22\n",
            "📊 Training on chunk 3 - Shape: (900, 5000, 12), Labels: (900, 44)\n",
            "Epoch 1/10\n",
            "\u001b[1m29/29\u001b[0m \u001b[32m━━━━━━━━━━━━━━━━━━━━\u001b[0m\u001b[37m\u001b[0m \u001b[1m0s\u001b[0m 2s/step - accuracy: 0.4511 - loss: 0.1071\n",
            "Epoch 1: val_loss did not improve from 0.09371\n",
            "\u001b[1m29/29\u001b[0m \u001b[32m━━━━━━━━━━━━━━━━━━━━\u001b[0m\u001b[37m\u001b[0m \u001b[1m62s\u001b[0m 2s/step - accuracy: 0.4502 - loss: 0.1071 - val_accuracy: 0.4300 - val_loss: 0.1001\n",
            "Epoch 2/10\n",
            "\u001b[1m29/29\u001b[0m \u001b[32m━━━━━━━━━━━━━━━━━━━━\u001b[0m\u001b[37m\u001b[0m \u001b[1m0s\u001b[0m 2s/step - accuracy: 0.4115 - loss: 0.1075\n",
            "Epoch 2: val_loss did not improve from 0.09371\n",
            "\u001b[1m29/29\u001b[0m \u001b[32m━━━━━━━━━━━━━━━━━━━━\u001b[0m\u001b[37m\u001b[0m \u001b[1m54s\u001b[0m 2s/step - accuracy: 0.4122 - loss: 0.1075 - val_accuracy: 0.4400 - val_loss: 0.0992\n",
            "Epoch 3/10\n",
            "\u001b[1m29/29\u001b[0m \u001b[32m━━━━━━━━━━━━━━━━━━━━\u001b[0m\u001b[37m\u001b[0m \u001b[1m0s\u001b[0m 2s/step - accuracy: 0.4164 - loss: 0.1088\n",
            "Epoch 3: val_loss did not improve from 0.09371\n",
            "\u001b[1m29/29\u001b[0m \u001b[32m━━━━━━━━━━━━━━━━━━━━\u001b[0m\u001b[37m\u001b[0m \u001b[1m80s\u001b[0m 2s/step - accuracy: 0.4168 - loss: 0.1087 - val_accuracy: 0.4300 - val_loss: 0.0990\n",
            "Epoch 4/10\n",
            "\u001b[1m29/29\u001b[0m \u001b[32m━━━━━━━━━━━━━━━━━━━━\u001b[0m\u001b[37m\u001b[0m \u001b[1m0s\u001b[0m 2s/step - accuracy: 0.4385 - loss: 0.1053\n",
            "Epoch 4: val_loss did not improve from 0.09371\n",
            "\u001b[1m29/29\u001b[0m \u001b[32m━━━━━━━━━━━━━━━━━━━━\u001b[0m\u001b[37m\u001b[0m \u001b[1m83s\u001b[0m 2s/step - accuracy: 0.4381 - loss: 0.1053 - val_accuracy: 0.4400 - val_loss: 0.0970\n",
            "Epoch 5/10\n",
            "\u001b[1m29/29\u001b[0m \u001b[32m━━━━━━━━━━━━━━━━━━━━\u001b[0m\u001b[37m\u001b[0m \u001b[1m0s\u001b[0m 2s/step - accuracy: 0.4319 - loss: 0.1028\n",
            "Epoch 5: val_loss did not improve from 0.09371\n",
            "\u001b[1m29/29\u001b[0m \u001b[32m━━━━━━━━━━━━━━━━━━━━\u001b[0m\u001b[37m\u001b[0m \u001b[1m83s\u001b[0m 2s/step - accuracy: 0.4319 - loss: 0.1029 - val_accuracy: 0.4300 - val_loss: 0.0971\n",
            "Epoch 6/10\n",
            "\u001b[1m29/29\u001b[0m \u001b[32m━━━━━━━━━━━━━━━━━━━━\u001b[0m\u001b[37m\u001b[0m \u001b[1m0s\u001b[0m 2s/step - accuracy: 0.4050 - loss: 0.1063\n",
            "Epoch 6: val_loss did not improve from 0.09371\n",
            "\u001b[1m29/29\u001b[0m \u001b[32m━━━━━━━━━━━━━━━━━━━━\u001b[0m\u001b[37m\u001b[0m \u001b[1m80s\u001b[0m 2s/step - accuracy: 0.4060 - loss: 0.1062 - val_accuracy: 0.4500 - val_loss: 0.0962\n",
            "Epoch 7/10\n",
            "\u001b[1m29/29\u001b[0m \u001b[32m━━━━━━━━━━━━━━━━━━━━\u001b[0m\u001b[37m\u001b[0m \u001b[1m0s\u001b[0m 2s/step - accuracy: 0.4564 - loss: 0.0989\n",
            "Epoch 7: val_loss did not improve from 0.09371\n",
            "\u001b[1m29/29\u001b[0m \u001b[32m━━━━━━━━━━━━━━━━━━━━\u001b[0m\u001b[37m\u001b[0m \u001b[1m82s\u001b[0m 2s/step - accuracy: 0.4557 - loss: 0.0990 - val_accuracy: 0.4400 - val_loss: 0.0958\n",
            "Epoch 8/10\n",
            "\u001b[1m29/29\u001b[0m \u001b[32m━━━━━━━━━━━━━━━━━━━━\u001b[0m\u001b[37m\u001b[0m \u001b[1m0s\u001b[0m 2s/step - accuracy: 0.4510 - loss: 0.1009\n",
            "Epoch 8: val_loss did not improve from 0.09371\n",
            "\u001b[1m29/29\u001b[0m \u001b[32m━━━━━━━━━━━━━━━━━━━━\u001b[0m\u001b[37m\u001b[0m \u001b[1m84s\u001b[0m 2s/step - accuracy: 0.4505 - loss: 0.1010 - val_accuracy: 0.4400 - val_loss: 0.0950\n",
            "Epoch 9/10\n",
            "\u001b[1m29/29\u001b[0m \u001b[32m━━━━━━━━━━━━━━━━━━━━\u001b[0m\u001b[37m\u001b[0m \u001b[1m0s\u001b[0m 2s/step - accuracy: 0.4196 - loss: 0.1023\n",
            "Epoch 9: val_loss did not improve from 0.09371\n",
            "\u001b[1m29/29\u001b[0m \u001b[32m━━━━━━━━━━━━━━━━━━━━\u001b[0m\u001b[37m\u001b[0m \u001b[1m82s\u001b[0m 2s/step - accuracy: 0.4202 - loss: 0.1023 - val_accuracy: 0.4400 - val_loss: 0.0946\n",
            "Epoch 10/10\n",
            "\u001b[1m29/29\u001b[0m \u001b[32m━━━━━━━━━━━━━━━━━━━━\u001b[0m\u001b[37m\u001b[0m \u001b[1m0s\u001b[0m 2s/step - accuracy: 0.4570 - loss: 0.0992\n",
            "Epoch 10: val_loss did not improve from 0.09371\n",
            "\u001b[1m29/29\u001b[0m \u001b[32m━━━━━━━━━━━━━━━━━━━━\u001b[0m\u001b[37m\u001b[0m \u001b[1m55s\u001b[0m 2s/step - accuracy: 0.4565 - loss: 0.0993 - val_accuracy: 0.4400 - val_loss: 0.0937\n",
            "\n",
            "📦 Loading chunk 4/22\n",
            "📊 Training on chunk 4 - Shape: (900, 5000, 12), Labels: (900, 44)\n",
            "Epoch 1/10\n",
            "\u001b[1m29/29\u001b[0m \u001b[32m━━━━━━━━━━━━━━━━━━━━\u001b[0m\u001b[37m\u001b[0m \u001b[1m0s\u001b[0m 2s/step - accuracy: 0.4193 - loss: 0.1011\n",
            "Epoch 1: val_loss improved from 0.09371 to 0.09266, saving model to /content/drive/MyDrive/PTB_model/classifier_500Hz.keras\n",
            "\u001b[1m29/29\u001b[0m \u001b[32m━━━━━━━━━━━━━━━━━━━━\u001b[0m\u001b[37m\u001b[0m \u001b[1m59s\u001b[0m 2s/step - accuracy: 0.4205 - loss: 0.1009 - val_accuracy: 0.4600 - val_loss: 0.0927\n",
            "Epoch 2/10\n",
            "\u001b[1m29/29\u001b[0m \u001b[32m━━━━━━━━━━━━━━━━━━━━\u001b[0m\u001b[37m\u001b[0m \u001b[1m0s\u001b[0m 2s/step - accuracy: 0.4661 - loss: 0.0987\n",
            "Epoch 2: val_loss improved from 0.09266 to 0.09212, saving model to /content/drive/MyDrive/PTB_model/classifier_500Hz.keras\n",
            "\u001b[1m29/29\u001b[0m \u001b[32m━━━━━━━━━━━━━━━━━━━━\u001b[0m\u001b[37m\u001b[0m \u001b[1m79s\u001b[0m 2s/step - accuracy: 0.4662 - loss: 0.0986 - val_accuracy: 0.4200 - val_loss: 0.0921\n",
            "Epoch 3/10\n",
            "\u001b[1m29/29\u001b[0m \u001b[32m━━━━━━━━━━━━━━━━━━━━\u001b[0m\u001b[37m\u001b[0m \u001b[1m0s\u001b[0m 2s/step - accuracy: 0.4411 - loss: 0.0990\n",
            "Epoch 3: val_loss improved from 0.09212 to 0.09103, saving model to /content/drive/MyDrive/PTB_model/classifier_500Hz.keras\n",
            "\u001b[1m29/29\u001b[0m \u001b[32m━━━━━━━━━━━━━━━━━━━━\u001b[0m\u001b[37m\u001b[0m \u001b[1m58s\u001b[0m 2s/step - accuracy: 0.4418 - loss: 0.0989 - val_accuracy: 0.4500 - val_loss: 0.0910\n",
            "Epoch 4/10\n",
            "\u001b[1m29/29\u001b[0m \u001b[32m━━━━━━━━━━━━━━━━━━━━\u001b[0m\u001b[37m\u001b[0m \u001b[1m0s\u001b[0m 2s/step - accuracy: 0.4986 - loss: 0.0909\n",
            "Epoch 4: val_loss improved from 0.09103 to 0.09073, saving model to /content/drive/MyDrive/PTB_model/classifier_500Hz.keras\n",
            "\u001b[1m29/29\u001b[0m \u001b[32m━━━━━━━━━━━━━━━━━━━━\u001b[0m\u001b[37m\u001b[0m \u001b[1m57s\u001b[0m 2s/step - accuracy: 0.4979 - loss: 0.0909 - val_accuracy: 0.4600 - val_loss: 0.0907\n",
            "Epoch 5/10\n",
            "\u001b[1m29/29\u001b[0m \u001b[32m━━━━━━━━━━━━━━━━━━━━\u001b[0m\u001b[37m\u001b[0m \u001b[1m0s\u001b[0m 2s/step - accuracy: 0.4404 - loss: 0.0915\n",
            "Epoch 5: val_loss improved from 0.09073 to 0.09038, saving model to /content/drive/MyDrive/PTB_model/classifier_500Hz.keras\n",
            "\u001b[1m29/29\u001b[0m \u001b[32m━━━━━━━━━━━━━━━━━━━━\u001b[0m\u001b[37m\u001b[0m \u001b[1m82s\u001b[0m 2s/step - accuracy: 0.4414 - loss: 0.0916 - val_accuracy: 0.4600 - val_loss: 0.0904\n",
            "Epoch 6/10\n",
            "\u001b[1m29/29\u001b[0m \u001b[32m━━━━━━━━━━━━━━━━━━━━\u001b[0m\u001b[37m\u001b[0m \u001b[1m0s\u001b[0m 2s/step - accuracy: 0.4571 - loss: 0.0977\n",
            "Epoch 6: val_loss improved from 0.09038 to 0.08996, saving model to /content/drive/MyDrive/PTB_model/classifier_500Hz.keras\n",
            "\u001b[1m29/29\u001b[0m \u001b[32m━━━━━━━━━━━━━━━━━━━━\u001b[0m\u001b[37m\u001b[0m \u001b[1m80s\u001b[0m 2s/step - accuracy: 0.4578 - loss: 0.0976 - val_accuracy: 0.4600 - val_loss: 0.0900\n",
            "Epoch 7/10\n",
            "\u001b[1m29/29\u001b[0m \u001b[32m━━━━━━━━━━━━━━━━━━━━\u001b[0m\u001b[37m\u001b[0m \u001b[1m0s\u001b[0m 2s/step - accuracy: 0.4758 - loss: 0.0892\n",
            "Epoch 7: val_loss improved from 0.08996 to 0.08832, saving model to /content/drive/MyDrive/PTB_model/classifier_500Hz.keras\n",
            "\u001b[1m29/29\u001b[0m \u001b[32m━━━━━━━━━━━━━━━━━━━━\u001b[0m\u001b[37m\u001b[0m \u001b[1m95s\u001b[0m 2s/step - accuracy: 0.4760 - loss: 0.0893 - val_accuracy: 0.4600 - val_loss: 0.0883\n",
            "Epoch 8/10\n",
            "\u001b[1m29/29\u001b[0m \u001b[32m━━━━━━━━━━━━━━━━━━━━\u001b[0m\u001b[37m\u001b[0m \u001b[1m0s\u001b[0m 2s/step - accuracy: 0.4908 - loss: 0.0927\n",
            "Epoch 8: val_loss improved from 0.08832 to 0.08772, saving model to /content/drive/MyDrive/PTB_model/classifier_500Hz.keras\n",
            "\u001b[1m29/29\u001b[0m \u001b[32m━━━━━━━━━━━━━━━━━━━━\u001b[0m\u001b[37m\u001b[0m \u001b[1m70s\u001b[0m 2s/step - accuracy: 0.4905 - loss: 0.0927 - val_accuracy: 0.4600 - val_loss: 0.0877\n",
            "Epoch 9/10\n",
            "\u001b[1m29/29\u001b[0m \u001b[32m━━━━━━━━━━━━━━━━━━━━\u001b[0m\u001b[37m\u001b[0m \u001b[1m0s\u001b[0m 2s/step - accuracy: 0.4668 - loss: 0.0936\n",
            "Epoch 9: val_loss did not improve from 0.08772\n",
            "\u001b[1m29/29\u001b[0m \u001b[32m━━━━━━━━━━━━━━━━━━━━\u001b[0m\u001b[37m\u001b[0m \u001b[1m80s\u001b[0m 2s/step - accuracy: 0.4672 - loss: 0.0935 - val_accuracy: 0.4300 - val_loss: 0.0885\n",
            "Epoch 10/10\n",
            "\u001b[1m29/29\u001b[0m \u001b[32m━━━━━━━━━━━━━━━━━━━━\u001b[0m\u001b[37m\u001b[0m \u001b[1m0s\u001b[0m 2s/step - accuracy: 0.4872 - loss: 0.0922\n",
            "Epoch 10: val_loss did not improve from 0.08772\n",
            "\u001b[1m29/29\u001b[0m \u001b[32m━━━━━━━━━━━━━━━━━━━━\u001b[0m\u001b[37m\u001b[0m \u001b[1m82s\u001b[0m 2s/step - accuracy: 0.4875 - loss: 0.0921 - val_accuracy: 0.4400 - val_loss: 0.0884\n",
            "\n",
            "📦 Loading chunk 5/22\n",
            "📊 Training on chunk 5 - Shape: (900, 5000, 12), Labels: (900, 44)\n",
            "Epoch 1/10\n",
            "\u001b[1m29/29\u001b[0m \u001b[32m━━━━━━━━━━━━━━━━━━━━\u001b[0m\u001b[37m\u001b[0m \u001b[1m0s\u001b[0m 2s/step - accuracy: 0.4525 - loss: 0.0993\n",
            "Epoch 1: val_loss did not improve from 0.08772\n",
            "\u001b[1m29/29\u001b[0m \u001b[32m━━━━━━━━━━━━━━━━━━━━\u001b[0m\u001b[37m\u001b[0m \u001b[1m55s\u001b[0m 2s/step - accuracy: 0.4524 - loss: 0.0993 - val_accuracy: 0.4800 - val_loss: 0.0915\n",
            "Epoch 2/10\n",
            "\u001b[1m29/29\u001b[0m \u001b[32m━━━━━━━━━━━━━━━━━━━━\u001b[0m\u001b[37m\u001b[0m \u001b[1m0s\u001b[0m 2s/step - accuracy: 0.4739 - loss: 0.0954\n",
            "Epoch 2: val_loss did not improve from 0.08772\n",
            "\u001b[1m29/29\u001b[0m \u001b[32m━━━━━━━━━━━━━━━━━━━━\u001b[0m\u001b[37m\u001b[0m \u001b[1m81s\u001b[0m 2s/step - accuracy: 0.4733 - loss: 0.0955 - val_accuracy: 0.4600 - val_loss: 0.0935\n",
            "Epoch 3/10\n",
            "\u001b[1m29/29\u001b[0m \u001b[32m━━━━━━━━━━━━━━━━━━━━\u001b[0m\u001b[37m\u001b[0m \u001b[1m0s\u001b[0m 2s/step - accuracy: 0.4414 - loss: 0.0980\n",
            "Epoch 3: val_loss did not improve from 0.08772\n",
            "\u001b[1m29/29\u001b[0m \u001b[32m━━━━━━━━━━━━━━━━━━━━\u001b[0m\u001b[37m\u001b[0m \u001b[1m81s\u001b[0m 2s/step - accuracy: 0.4420 - loss: 0.0979 - val_accuracy: 0.4800 - val_loss: 0.0902\n",
            "Epoch 4/10\n",
            "\u001b[1m29/29\u001b[0m \u001b[32m━━━━━━━━━━━━━━━━━━━━\u001b[0m\u001b[37m\u001b[0m \u001b[1m0s\u001b[0m 2s/step - accuracy: 0.4593 - loss: 0.0953\n",
            "Epoch 4: val_loss did not improve from 0.08772\n",
            "\u001b[1m29/29\u001b[0m \u001b[32m━━━━━━━━━━━━━━━━━━━━\u001b[0m\u001b[37m\u001b[0m \u001b[1m84s\u001b[0m 2s/step - accuracy: 0.4590 - loss: 0.0953 - val_accuracy: 0.4800 - val_loss: 0.0914\n",
            "Epoch 5/10\n",
            "\u001b[1m29/29\u001b[0m \u001b[32m━━━━━━━━━━━━━━━━━━━━\u001b[0m\u001b[37m\u001b[0m \u001b[1m0s\u001b[0m 2s/step - accuracy: 0.4207 - loss: 0.0994\n",
            "Epoch 5: val_loss did not improve from 0.08772\n",
            "\u001b[1m29/29\u001b[0m \u001b[32m━━━━━━━━━━━━━━━━━━━━\u001b[0m\u001b[37m\u001b[0m \u001b[1m87s\u001b[0m 2s/step - accuracy: 0.4217 - loss: 0.0992 - val_accuracy: 0.5000 - val_loss: 0.0886\n",
            "Epoch 6/10\n",
            "\u001b[1m29/29\u001b[0m \u001b[32m━━━━━━━━━━━━━━━━━━━━\u001b[0m\u001b[37m\u001b[0m \u001b[1m0s\u001b[0m 2s/step - accuracy: 0.4434 - loss: 0.0939\n",
            "Epoch 6: val_loss did not improve from 0.08772\n",
            "\u001b[1m29/29\u001b[0m \u001b[32m━━━━━━━━━━━━━━━━━━━━\u001b[0m\u001b[37m\u001b[0m \u001b[1m79s\u001b[0m 2s/step - accuracy: 0.4442 - loss: 0.0939 - val_accuracy: 0.4400 - val_loss: 0.0917\n",
            "Epoch 7/10\n",
            "\u001b[1m29/29\u001b[0m \u001b[32m━━━━━━━━━━━━━━━━━━━━\u001b[0m\u001b[37m\u001b[0m \u001b[1m0s\u001b[0m 2s/step - accuracy: 0.4550 - loss: 0.0961\n",
            "Epoch 7: val_loss improved from 0.08772 to 0.08726, saving model to /content/drive/MyDrive/PTB_model/classifier_500Hz.keras\n",
            "\u001b[1m29/29\u001b[0m \u001b[32m━━━━━━━━━━━━━━━━━━━━\u001b[0m\u001b[37m\u001b[0m \u001b[1m60s\u001b[0m 2s/step - accuracy: 0.4554 - loss: 0.0960 - val_accuracy: 0.4800 - val_loss: 0.0873\n",
            "Epoch 8/10\n",
            "\u001b[1m29/29\u001b[0m \u001b[32m━━━━━━━━━━━━━━━━━━━━\u001b[0m\u001b[37m\u001b[0m \u001b[1m0s\u001b[0m 2s/step - accuracy: 0.4826 - loss: 0.0918\n",
            "Epoch 8: val_loss did not improve from 0.08726\n",
            "\u001b[1m29/29\u001b[0m \u001b[32m━━━━━━━━━━━━━━━━━━━━\u001b[0m\u001b[37m\u001b[0m \u001b[1m58s\u001b[0m 2s/step - accuracy: 0.4822 - loss: 0.0919 - val_accuracy: 0.4900 - val_loss: 0.0878\n",
            "Epoch 9/10\n",
            "\u001b[1m29/29\u001b[0m \u001b[32m━━━━━━━━━━━━━━━━━━━━\u001b[0m\u001b[37m\u001b[0m \u001b[1m0s\u001b[0m 2s/step - accuracy: 0.4546 - loss: 0.0930\n",
            "Epoch 9: val_loss improved from 0.08726 to 0.08633, saving model to /content/drive/MyDrive/PTB_model/classifier_500Hz.keras\n",
            "\u001b[1m29/29\u001b[0m \u001b[32m━━━━━━━━━━━━━━━━━━━━\u001b[0m\u001b[37m\u001b[0m \u001b[1m58s\u001b[0m 2s/step - accuracy: 0.4551 - loss: 0.0929 - val_accuracy: 0.4900 - val_loss: 0.0863\n",
            "Epoch 10/10\n",
            "\u001b[1m29/29\u001b[0m \u001b[32m━━━━━━━━━━━━━━━━━━━━\u001b[0m\u001b[37m\u001b[0m \u001b[1m0s\u001b[0m 2s/step - accuracy: 0.4870 - loss: 0.0888\n",
            "Epoch 10: val_loss improved from 0.08633 to 0.08586, saving model to /content/drive/MyDrive/PTB_model/classifier_500Hz.keras\n",
            "\u001b[1m29/29\u001b[0m \u001b[32m━━━━━━━━━━━━━━━━━━━━\u001b[0m\u001b[37m\u001b[0m \u001b[1m80s\u001b[0m 2s/step - accuracy: 0.4865 - loss: 0.0888 - val_accuracy: 0.4900 - val_loss: 0.0859\n",
            "\n",
            "📦 Loading chunk 6/22\n",
            "📊 Training on chunk 6 - Shape: (900, 5000, 12), Labels: (900, 44)\n",
            "Epoch 1/10\n",
            "\u001b[1m29/29\u001b[0m \u001b[32m━━━━━━━━━━━━━━━━━━━━\u001b[0m\u001b[37m\u001b[0m \u001b[1m0s\u001b[0m 2s/step - accuracy: 0.5020 - loss: 0.0876\n",
            "Epoch 1: val_loss improved from 0.08586 to 0.07598, saving model to /content/drive/MyDrive/PTB_model/classifier_500Hz.keras\n",
            "\u001b[1m29/29\u001b[0m \u001b[32m━━━━━━━━━━━━━━━━━━━━\u001b[0m\u001b[37m\u001b[0m \u001b[1m57s\u001b[0m 2s/step - accuracy: 0.5032 - loss: 0.0876 - val_accuracy: 0.5200 - val_loss: 0.0760\n",
            "Epoch 2/10\n",
            "\u001b[1m29/29\u001b[0m \u001b[32m━━━━━━━━━━━━━━━━━━━━\u001b[0m\u001b[37m\u001b[0m \u001b[1m0s\u001b[0m 2s/step - accuracy: 0.5310 - loss: 0.0813\n",
            "Epoch 2: val_loss did not improve from 0.07598\n",
            "\u001b[1m29/29\u001b[0m \u001b[32m━━━━━━━━━━━━━━━━━━━━\u001b[0m\u001b[37m\u001b[0m \u001b[1m82s\u001b[0m 2s/step - accuracy: 0.5308 - loss: 0.0814 - val_accuracy: 0.5200 - val_loss: 0.0765\n",
            "Epoch 3/10\n",
            "\u001b[1m29/29\u001b[0m \u001b[32m━━━━━━━━━━━━━━━━━━━━\u001b[0m\u001b[37m\u001b[0m \u001b[1m0s\u001b[0m 2s/step - accuracy: 0.5108 - loss: 0.0837\n",
            "Epoch 3: val_loss improved from 0.07598 to 0.07541, saving model to /content/drive/MyDrive/PTB_model/classifier_500Hz.keras\n",
            "\u001b[1m29/29\u001b[0m \u001b[32m━━━━━━━━━━━━━━━━━━━━\u001b[0m\u001b[37m\u001b[0m \u001b[1m53s\u001b[0m 2s/step - accuracy: 0.5111 - loss: 0.0837 - val_accuracy: 0.5500 - val_loss: 0.0754\n",
            "Epoch 4/10\n",
            "\u001b[1m29/29\u001b[0m \u001b[32m━━━━━━━━━━━━━━━━━━━━\u001b[0m\u001b[37m\u001b[0m \u001b[1m0s\u001b[0m 2s/step - accuracy: 0.5179 - loss: 0.0817\n",
            "Epoch 4: val_loss improved from 0.07541 to 0.07484, saving model to /content/drive/MyDrive/PTB_model/classifier_500Hz.keras\n",
            "\u001b[1m29/29\u001b[0m \u001b[32m━━━━━━━━━━━━━━━━━━━━\u001b[0m\u001b[37m\u001b[0m \u001b[1m62s\u001b[0m 2s/step - accuracy: 0.5179 - loss: 0.0817 - val_accuracy: 0.5300 - val_loss: 0.0748\n",
            "Epoch 5/10\n",
            "\u001b[1m29/29\u001b[0m \u001b[32m━━━━━━━━━━━━━━━━━━━━\u001b[0m\u001b[37m\u001b[0m \u001b[1m0s\u001b[0m 2s/step - accuracy: 0.5047 - loss: 0.0811\n",
            "Epoch 5: val_loss improved from 0.07484 to 0.07424, saving model to /content/drive/MyDrive/PTB_model/classifier_500Hz.keras\n",
            "\u001b[1m29/29\u001b[0m \u001b[32m━━━━━━━━━━━━━━━━━━━━\u001b[0m\u001b[37m\u001b[0m \u001b[1m75s\u001b[0m 2s/step - accuracy: 0.5053 - loss: 0.0811 - val_accuracy: 0.5400 - val_loss: 0.0742\n",
            "Epoch 6/10\n",
            "\u001b[1m29/29\u001b[0m \u001b[32m━━━━━━━━━━━━━━━━━━━━\u001b[0m\u001b[37m\u001b[0m \u001b[1m0s\u001b[0m 2s/step - accuracy: 0.5566 - loss: 0.0763\n",
            "Epoch 6: val_loss improved from 0.07424 to 0.07332, saving model to /content/drive/MyDrive/PTB_model/classifier_500Hz.keras\n",
            "\u001b[1m29/29\u001b[0m \u001b[32m━━━━━━━━━━━━━━━━━━━━\u001b[0m\u001b[37m\u001b[0m \u001b[1m82s\u001b[0m 2s/step - accuracy: 0.5559 - loss: 0.0764 - val_accuracy: 0.5200 - val_loss: 0.0733\n",
            "Epoch 7/10\n",
            "\u001b[1m29/29\u001b[0m \u001b[32m━━━━━━━━━━━━━━━━━━━━\u001b[0m\u001b[37m\u001b[0m \u001b[1m0s\u001b[0m 2s/step - accuracy: 0.5329 - loss: 0.0815\n",
            "Epoch 7: val_loss did not improve from 0.07332\n",
            "\u001b[1m29/29\u001b[0m \u001b[32m━━━━━━━━━━━━━━━━━━━━\u001b[0m\u001b[37m\u001b[0m \u001b[1m83s\u001b[0m 2s/step - accuracy: 0.5327 - loss: 0.0815 - val_accuracy: 0.5100 - val_loss: 0.0758\n",
            "Epoch 8/10\n",
            "\u001b[1m29/29\u001b[0m \u001b[32m━━━━━━━━━━━━━━━━━━━━\u001b[0m\u001b[37m\u001b[0m \u001b[1m0s\u001b[0m 2s/step - accuracy: 0.5594 - loss: 0.0784\n",
            "Epoch 8: val_loss improved from 0.07332 to 0.07297, saving model to /content/drive/MyDrive/PTB_model/classifier_500Hz.keras\n",
            "\u001b[1m29/29\u001b[0m \u001b[32m━━━━━━━━━━━━━━━━━━━━\u001b[0m\u001b[37m\u001b[0m \u001b[1m86s\u001b[0m 2s/step - accuracy: 0.5589 - loss: 0.0785 - val_accuracy: 0.5200 - val_loss: 0.0730\n",
            "Epoch 9/10\n",
            "\u001b[1m29/29\u001b[0m \u001b[32m━━━━━━━━━━━━━━━━━━━━\u001b[0m\u001b[37m\u001b[0m \u001b[1m0s\u001b[0m 2s/step - accuracy: 0.5343 - loss: 0.0800\n",
            "Epoch 9: val_loss improved from 0.07297 to 0.07188, saving model to /content/drive/MyDrive/PTB_model/classifier_500Hz.keras\n",
            "\u001b[1m29/29\u001b[0m \u001b[32m━━━━━━━━━━━━━━━━━━━━\u001b[0m\u001b[37m\u001b[0m \u001b[1m79s\u001b[0m 2s/step - accuracy: 0.5346 - loss: 0.0799 - val_accuracy: 0.5200 - val_loss: 0.0719\n",
            "Epoch 10/10\n",
            "\u001b[1m29/29\u001b[0m \u001b[32m━━━━━━━━━━━━━━━━━━━━\u001b[0m\u001b[37m\u001b[0m \u001b[1m0s\u001b[0m 2s/step - accuracy: 0.5756 - loss: 0.0749\n",
            "Epoch 10: val_loss did not improve from 0.07188\n",
            "\u001b[1m29/29\u001b[0m \u001b[32m━━━━━━━━━━━━━━━━━━━━\u001b[0m\u001b[37m\u001b[0m \u001b[1m85s\u001b[0m 2s/step - accuracy: 0.5748 - loss: 0.0750 - val_accuracy: 0.5400 - val_loss: 0.0719\n",
            "\n",
            "📦 Loading chunk 7/22\n",
            "📊 Training on chunk 7 - Shape: (900, 5000, 12), Labels: (900, 44)\n",
            "Epoch 1/10\n",
            "\u001b[1m29/29\u001b[0m \u001b[32m━━━━━━━━━━━━━━━━━━━━\u001b[0m\u001b[37m\u001b[0m \u001b[1m0s\u001b[0m 2s/step - accuracy: 0.4738 - loss: 0.0878\n",
            "Epoch 1: val_loss did not improve from 0.07188\n",
            "\u001b[1m29/29\u001b[0m \u001b[32m━━━━━━━━━━━━━━━━━━━━\u001b[0m\u001b[37m\u001b[0m \u001b[1m60s\u001b[0m 2s/step - accuracy: 0.4735 - loss: 0.0878 - val_accuracy: 0.4300 - val_loss: 0.0918\n",
            "Epoch 2/10\n",
            "\u001b[1m29/29\u001b[0m \u001b[32m━━━━━━━━━━━━━━━━━━━━\u001b[0m\u001b[37m\u001b[0m \u001b[1m0s\u001b[0m 2s/step - accuracy: 0.4520 - loss: 0.0886\n",
            "Epoch 2: val_loss did not improve from 0.07188\n",
            "\u001b[1m29/29\u001b[0m \u001b[32m━━━━━━━━━━━━━━━━━━━━\u001b[0m\u001b[37m\u001b[0m \u001b[1m87s\u001b[0m 2s/step - accuracy: 0.4523 - loss: 0.0886 - val_accuracy: 0.4500 - val_loss: 0.0914\n",
            "Epoch 3/10\n",
            "\u001b[1m29/29\u001b[0m \u001b[32m━━━━━━━━━━━━━━━━━━━━\u001b[0m\u001b[37m\u001b[0m \u001b[1m0s\u001b[0m 2s/step - accuracy: 0.4498 - loss: 0.0890\n",
            "Epoch 3: val_loss did not improve from 0.07188\n",
            "\u001b[1m29/29\u001b[0m \u001b[32m━━━━━━━━━━━━━━━━━━━━\u001b[0m\u001b[37m\u001b[0m \u001b[1m72s\u001b[0m 2s/step - accuracy: 0.4502 - loss: 0.0889 - val_accuracy: 0.4300 - val_loss: 0.0934\n",
            "Epoch 4/10\n",
            "\u001b[1m29/29\u001b[0m \u001b[32m━━━━━━━━━━━━━━━━━━━━\u001b[0m\u001b[37m\u001b[0m \u001b[1m0s\u001b[0m 2s/step - accuracy: 0.4996 - loss: 0.0836\n",
            "Epoch 4: val_loss did not improve from 0.07188\n",
            "\u001b[1m29/29\u001b[0m \u001b[32m━━━━━━━━━━━━━━━━━━━━\u001b[0m\u001b[37m\u001b[0m \u001b[1m84s\u001b[0m 2s/step - accuracy: 0.4990 - loss: 0.0836 - val_accuracy: 0.4700 - val_loss: 0.0922\n",
            "Epoch 5/10\n",
            "\u001b[1m29/29\u001b[0m \u001b[32m━━━━━━━━━━━━━━━━━━━━\u001b[0m\u001b[37m\u001b[0m \u001b[1m0s\u001b[0m 2s/step - accuracy: 0.4384 - loss: 0.0865\n",
            "Epoch 5: val_loss did not improve from 0.07188\n",
            "\u001b[1m29/29\u001b[0m \u001b[32m━━━━━━━━━━━━━━━━━━━━\u001b[0m\u001b[37m\u001b[0m \u001b[1m59s\u001b[0m 2s/step - accuracy: 0.4388 - loss: 0.0865 - val_accuracy: 0.4600 - val_loss: 0.0913\n",
            "Epoch 6/10\n",
            "\u001b[1m29/29\u001b[0m \u001b[32m━━━━━━━━━━━━━━━━━━━━\u001b[0m\u001b[37m\u001b[0m \u001b[1m0s\u001b[0m 2s/step - accuracy: 0.4770 - loss: 0.0845\n",
            "Epoch 6: val_loss did not improve from 0.07188\n",
            "\u001b[1m29/29\u001b[0m \u001b[32m━━━━━━━━━━━━━━━━━━━━\u001b[0m\u001b[37m\u001b[0m \u001b[1m83s\u001b[0m 2s/step - accuracy: 0.4766 - loss: 0.0845 - val_accuracy: 0.4600 - val_loss: 0.0903\n",
            "Epoch 7/10\n",
            "\u001b[1m29/29\u001b[0m \u001b[32m━━━━━━━━━━━━━━━━━━━━\u001b[0m\u001b[37m\u001b[0m \u001b[1m0s\u001b[0m 2s/step - accuracy: 0.4672 - loss: 0.0839\n",
            "Epoch 7: val_loss did not improve from 0.07188\n",
            "\u001b[1m29/29\u001b[0m \u001b[32m━━━━━━━━━━━━━━━━━━━━\u001b[0m\u001b[37m\u001b[0m \u001b[1m57s\u001b[0m 2s/step - accuracy: 0.4672 - loss: 0.0839 - val_accuracy: 0.4500 - val_loss: 0.0899\n",
            "Epoch 8/10\n",
            "\u001b[1m29/29\u001b[0m \u001b[32m━━━━━━━━━━━━━━━━━━━━\u001b[0m\u001b[37m\u001b[0m \u001b[1m0s\u001b[0m 2s/step - accuracy: 0.4895 - loss: 0.0820\n",
            "Epoch 8: val_loss did not improve from 0.07188\n",
            "\u001b[1m29/29\u001b[0m \u001b[32m━━━━━━━━━━━━━━━━━━━━\u001b[0m\u001b[37m\u001b[0m \u001b[1m57s\u001b[0m 2s/step - accuracy: 0.4888 - loss: 0.0820 - val_accuracy: 0.4900 - val_loss: 0.0885\n",
            "Epoch 9/10\n",
            "\u001b[1m29/29\u001b[0m \u001b[32m━━━━━━━━━━━━━━━━━━━━\u001b[0m\u001b[37m\u001b[0m \u001b[1m0s\u001b[0m 2s/step - accuracy: 0.4536 - loss: 0.0870\n",
            "Epoch 9: val_loss did not improve from 0.07188\n",
            "\u001b[1m29/29\u001b[0m \u001b[32m━━━━━━━━━━━━━━━━━━━━\u001b[0m\u001b[37m\u001b[0m \u001b[1m57s\u001b[0m 2s/step - accuracy: 0.4542 - loss: 0.0869 - val_accuracy: 0.4900 - val_loss: 0.0897\n",
            "Epoch 10/10\n",
            "\u001b[1m29/29\u001b[0m \u001b[32m━━━━━━━━━━━━━━━━━━━━\u001b[0m\u001b[37m\u001b[0m \u001b[1m0s\u001b[0m 2s/step - accuracy: 0.5033 - loss: 0.0820\n",
            "Epoch 10: val_loss did not improve from 0.07188\n",
            "\u001b[1m29/29\u001b[0m \u001b[32m━━━━━━━━━━━━━━━━━━━━\u001b[0m\u001b[37m\u001b[0m \u001b[1m83s\u001b[0m 2s/step - accuracy: 0.5031 - loss: 0.0820 - val_accuracy: 0.4600 - val_loss: 0.0889\n",
            "\n",
            "📦 Loading chunk 8/22\n",
            "📊 Training on chunk 8 - Shape: (900, 5000, 12), Labels: (900, 44)\n",
            "Epoch 1/10\n",
            "\u001b[1m29/29\u001b[0m \u001b[32m━━━━━━━━━━━━━━━━━━━━\u001b[0m\u001b[37m\u001b[0m \u001b[1m0s\u001b[0m 2s/step - accuracy: 0.4889 - loss: 0.0837\n",
            "Epoch 1: val_loss did not improve from 0.07188\n",
            "\u001b[1m29/29\u001b[0m \u001b[32m━━━━━━━━━━━━━━━━━━━━\u001b[0m\u001b[37m\u001b[0m \u001b[1m58s\u001b[0m 2s/step - accuracy: 0.4892 - loss: 0.0836 - val_accuracy: 0.4700 - val_loss: 0.0800\n",
            "Epoch 2/10\n",
            "\u001b[1m29/29\u001b[0m \u001b[32m━━━━━━━━━━━━━━━━━━━━\u001b[0m\u001b[37m\u001b[0m \u001b[1m0s\u001b[0m 2s/step - accuracy: 0.4998 - loss: 0.0868\n",
            "Epoch 2: val_loss did not improve from 0.07188\n",
            "\u001b[1m29/29\u001b[0m \u001b[32m━━━━━━━━━━━━━━━━━━━━\u001b[0m\u001b[37m\u001b[0m \u001b[1m80s\u001b[0m 2s/step - accuracy: 0.5005 - loss: 0.0866 - val_accuracy: 0.4800 - val_loss: 0.0784\n",
            "Epoch 3/10\n",
            "\u001b[1m29/29\u001b[0m \u001b[32m━━━━━━━━━━━━━━━━━━━━\u001b[0m\u001b[37m\u001b[0m \u001b[1m0s\u001b[0m 2s/step - accuracy: 0.4961 - loss: 0.0819\n",
            "Epoch 3: val_loss did not improve from 0.07188\n",
            "\u001b[1m29/29\u001b[0m \u001b[32m━━━━━━━━━━━━━━━━━━━━\u001b[0m\u001b[37m\u001b[0m \u001b[1m81s\u001b[0m 2s/step - accuracy: 0.4968 - loss: 0.0819 - val_accuracy: 0.4800 - val_loss: 0.0778\n",
            "Epoch 4/10\n",
            "\u001b[1m29/29\u001b[0m \u001b[32m━━━━━━━━━━━━━━━━━━━━\u001b[0m\u001b[37m\u001b[0m \u001b[1m0s\u001b[0m 2s/step - accuracy: 0.5106 - loss: 0.0760\n",
            "Epoch 4: val_loss did not improve from 0.07188\n",
            "\u001b[1m29/29\u001b[0m \u001b[32m━━━━━━━━━━━━━━━━━━━━\u001b[0m\u001b[37m\u001b[0m \u001b[1m82s\u001b[0m 2s/step - accuracy: 0.5105 - loss: 0.0760 - val_accuracy: 0.4700 - val_loss: 0.0778\n",
            "Epoch 5/10\n",
            "\u001b[1m29/29\u001b[0m \u001b[32m━━━━━━━━━━━━━━━━━━━━\u001b[0m\u001b[37m\u001b[0m \u001b[1m0s\u001b[0m 2s/step - accuracy: 0.5138 - loss: 0.0756\n",
            "Epoch 5: val_loss did not improve from 0.07188\n",
            "\u001b[1m29/29\u001b[0m \u001b[32m━━━━━━━━━━━━━━━━━━━━\u001b[0m\u001b[37m\u001b[0m \u001b[1m82s\u001b[0m 2s/step - accuracy: 0.5142 - loss: 0.0756 - val_accuracy: 0.4600 - val_loss: 0.0783\n",
            "Epoch 6/10\n",
            "\u001b[1m29/29\u001b[0m \u001b[32m━━━━━━━━━━━━━━━━━━━━\u001b[0m\u001b[37m\u001b[0m \u001b[1m0s\u001b[0m 2s/step - accuracy: 0.4941 - loss: 0.0814\n",
            "Epoch 6: val_loss did not improve from 0.07188\n",
            "\u001b[1m29/29\u001b[0m \u001b[32m━━━━━━━━━━━━━━━━━━━━\u001b[0m\u001b[37m\u001b[0m \u001b[1m84s\u001b[0m 2s/step - accuracy: 0.4948 - loss: 0.0813 - val_accuracy: 0.4900 - val_loss: 0.0766\n",
            "Epoch 7/10\n",
            "\u001b[1m29/29\u001b[0m \u001b[32m━━━━━━━━━━━━━━━━━━━━\u001b[0m\u001b[37m\u001b[0m \u001b[1m0s\u001b[0m 2s/step - accuracy: 0.5455 - loss: 0.0726\n",
            "Epoch 7: val_loss did not improve from 0.07188\n",
            "\u001b[1m29/29\u001b[0m \u001b[32m━━━━━━━━━━━━━━━━━━━━\u001b[0m\u001b[37m\u001b[0m \u001b[1m84s\u001b[0m 2s/step - accuracy: 0.5447 - loss: 0.0727 - val_accuracy: 0.4600 - val_loss: 0.0771\n",
            "Epoch 8/10\n",
            "\u001b[1m29/29\u001b[0m \u001b[32m━━━━━━━━━━━━━━━━━━━━\u001b[0m\u001b[37m\u001b[0m \u001b[1m0s\u001b[0m 2s/step - accuracy: 0.5105 - loss: 0.0783\n",
            "Epoch 8: val_loss did not improve from 0.07188\n",
            "\u001b[1m29/29\u001b[0m \u001b[32m━━━━━━━━━━━━━━━━━━━━\u001b[0m\u001b[37m\u001b[0m \u001b[1m64s\u001b[0m 2s/step - accuracy: 0.5108 - loss: 0.0783 - val_accuracy: 0.4800 - val_loss: 0.0756\n",
            "Epoch 9/10\n",
            "\u001b[1m29/29\u001b[0m \u001b[32m━━━━━━━━━━━━━━━━━━━━\u001b[0m\u001b[37m\u001b[0m \u001b[1m0s\u001b[0m 2s/step - accuracy: 0.5031 - loss: 0.0785\n",
            "Epoch 9: val_loss did not improve from 0.07188\n",
            "\u001b[1m29/29\u001b[0m \u001b[32m━━━━━━━━━━━━━━━━━━━━\u001b[0m\u001b[37m\u001b[0m \u001b[1m75s\u001b[0m 2s/step - accuracy: 0.5039 - loss: 0.0784 - val_accuracy: 0.5000 - val_loss: 0.0752\n",
            "Epoch 10/10\n",
            "\u001b[1m29/29\u001b[0m \u001b[32m━━━━━━━━━━━━━━━━━━━━\u001b[0m\u001b[37m\u001b[0m \u001b[1m0s\u001b[0m 2s/step - accuracy: 0.5431 - loss: 0.0745\n",
            "Epoch 10: val_loss did not improve from 0.07188\n",
            "\u001b[1m29/29\u001b[0m \u001b[32m━━━━━━━━━━━━━━━━━━━━\u001b[0m\u001b[37m\u001b[0m \u001b[1m84s\u001b[0m 2s/step - accuracy: 0.5433 - loss: 0.0744 - val_accuracy: 0.4700 - val_loss: 0.0753\n",
            "\n",
            "📦 Loading chunk 9/22\n",
            "📊 Training on chunk 9 - Shape: (900, 5000, 12), Labels: (900, 44)\n",
            "Epoch 1/10\n",
            "\u001b[1m29/29\u001b[0m \u001b[32m━━━━━━━━━━━━━━━━━━━━\u001b[0m\u001b[37m\u001b[0m \u001b[1m0s\u001b[0m 2s/step - accuracy: 0.4982 - loss: 0.0863\n",
            "Epoch 1: val_loss did not improve from 0.07188\n",
            "\u001b[1m29/29\u001b[0m \u001b[32m━━━━━━━━━━━━━━━━━━━━\u001b[0m\u001b[37m\u001b[0m \u001b[1m61s\u001b[0m 2s/step - accuracy: 0.4974 - loss: 0.0864 - val_accuracy: 0.4900 - val_loss: 0.0848\n",
            "Epoch 2/10\n",
            "\u001b[1m29/29\u001b[0m \u001b[32m━━━━━━━━━━━━━━━━━━━━\u001b[0m\u001b[37m\u001b[0m \u001b[1m0s\u001b[0m 2s/step - accuracy: 0.4956 - loss: 0.0861\n",
            "Epoch 2: val_loss did not improve from 0.07188\n",
            "\u001b[1m29/29\u001b[0m \u001b[32m━━━━━━━━━━━━━━━━━━━━\u001b[0m\u001b[37m\u001b[0m \u001b[1m77s\u001b[0m 2s/step - accuracy: 0.4956 - loss: 0.0862 - val_accuracy: 0.5300 - val_loss: 0.0848\n",
            "Epoch 3/10\n",
            "\u001b[1m29/29\u001b[0m \u001b[32m━━━━━━━━━━━━━━━━━━━━\u001b[0m\u001b[37m\u001b[0m \u001b[1m0s\u001b[0m 2s/step - accuracy: 0.5113 - loss: 0.0853\n",
            "Epoch 3: val_loss did not improve from 0.07188\n",
            "\u001b[1m29/29\u001b[0m \u001b[32m━━━━━━━━━━━━━━━━━━━━\u001b[0m\u001b[37m\u001b[0m \u001b[1m81s\u001b[0m 2s/step - accuracy: 0.5106 - loss: 0.0853 - val_accuracy: 0.5000 - val_loss: 0.0844\n",
            "Epoch 4/10\n",
            "\u001b[1m29/29\u001b[0m \u001b[32m━━━━━━━━━━━━━━━━━━━━\u001b[0m\u001b[37m\u001b[0m \u001b[1m0s\u001b[0m 2s/step - accuracy: 0.4860 - loss: 0.0826\n",
            "Epoch 4: val_loss did not improve from 0.07188\n",
            "\u001b[1m29/29\u001b[0m \u001b[32m━━━━━━━━━━━━━━━━━━━━\u001b[0m\u001b[37m\u001b[0m \u001b[1m82s\u001b[0m 2s/step - accuracy: 0.4859 - loss: 0.0827 - val_accuracy: 0.4900 - val_loss: 0.0846\n",
            "Epoch 5/10\n",
            "\u001b[1m29/29\u001b[0m \u001b[32m━━━━━━━━━━━━━━━━━━━━\u001b[0m\u001b[37m\u001b[0m \u001b[1m0s\u001b[0m 2s/step - accuracy: 0.5075 - loss: 0.0852\n",
            "Epoch 5: val_loss did not improve from 0.07188\n",
            "\u001b[1m29/29\u001b[0m \u001b[32m━━━━━━━━━━━━━━━━━━━━\u001b[0m\u001b[37m\u001b[0m \u001b[1m56s\u001b[0m 2s/step - accuracy: 0.5070 - loss: 0.0852 - val_accuracy: 0.4900 - val_loss: 0.0849\n",
            "Epoch 6/10\n",
            "\u001b[1m29/29\u001b[0m \u001b[32m━━━━━━━━━━━━━━━━━━━━\u001b[0m\u001b[37m\u001b[0m \u001b[1m0s\u001b[0m 2s/step - accuracy: 0.4623 - loss: 0.0840\n",
            "Epoch 6: val_loss did not improve from 0.07188\n",
            "\u001b[1m29/29\u001b[0m \u001b[32m━━━━━━━━━━━━━━━━━━━━\u001b[0m\u001b[37m\u001b[0m \u001b[1m87s\u001b[0m 2s/step - accuracy: 0.4631 - loss: 0.0840 - val_accuracy: 0.5000 - val_loss: 0.0850\n",
            "\n",
            "📦 Loading chunk 10/22\n",
            "📊 Training on chunk 10 - Shape: (900, 5000, 12), Labels: (900, 44)\n",
            "Epoch 1/10\n",
            "\u001b[1m29/29\u001b[0m \u001b[32m━━━━━━━━━━━━━━━━━━━━\u001b[0m\u001b[37m\u001b[0m \u001b[1m0s\u001b[0m 2s/step - accuracy: 0.5143 - loss: 0.0820\n",
            "Epoch 1: val_loss did not improve from 0.07188\n",
            "\u001b[1m29/29\u001b[0m \u001b[32m━━━━━━━━━━━━━━━━━━━━\u001b[0m\u001b[37m\u001b[0m \u001b[1m55s\u001b[0m 2s/step - accuracy: 0.5140 - loss: 0.0820 - val_accuracy: 0.5400 - val_loss: 0.0849\n",
            "Epoch 2/10\n",
            "\u001b[1m29/29\u001b[0m \u001b[32m━━━━━━━━━━━━━━━━━━━━\u001b[0m\u001b[37m\u001b[0m \u001b[1m0s\u001b[0m 2s/step - accuracy: 0.5088 - loss: 0.0812\n",
            "Epoch 2: val_loss did not improve from 0.07188\n",
            "\u001b[1m29/29\u001b[0m \u001b[32m━━━━━━━━━━━━━━━━━━━━\u001b[0m\u001b[37m\u001b[0m \u001b[1m80s\u001b[0m 2s/step - accuracy: 0.5087 - loss: 0.0811 - val_accuracy: 0.4900 - val_loss: 0.0850\n",
            "Epoch 3/10\n",
            "\u001b[1m29/29\u001b[0m \u001b[32m━━━━━━━━━━━━━━━━━━━━\u001b[0m\u001b[37m\u001b[0m \u001b[1m0s\u001b[0m 2s/step - accuracy: 0.4969 - loss: 0.0779\n",
            "Epoch 3: val_loss did not improve from 0.07188\n",
            "\u001b[1m29/29\u001b[0m \u001b[32m━━━━━━━━━━━━━━━━━━━━\u001b[0m\u001b[37m\u001b[0m \u001b[1m84s\u001b[0m 2s/step - accuracy: 0.4976 - loss: 0.0779 - val_accuracy: 0.5100 - val_loss: 0.0843\n",
            "Epoch 4/10\n",
            "\u001b[1m29/29\u001b[0m \u001b[32m━━━━━━━━━━━━━━━━━━━━\u001b[0m\u001b[37m\u001b[0m \u001b[1m0s\u001b[0m 2s/step - accuracy: 0.5458 - loss: 0.0750\n",
            "Epoch 4: val_loss did not improve from 0.07188\n",
            "\u001b[1m29/29\u001b[0m \u001b[32m━━━━━━━━━━━━━━━━━━━━\u001b[0m\u001b[37m\u001b[0m \u001b[1m56s\u001b[0m 2s/step - accuracy: 0.5456 - loss: 0.0750 - val_accuracy: 0.5200 - val_loss: 0.0827\n",
            "Epoch 5/10\n",
            "\u001b[1m29/29\u001b[0m \u001b[32m━━━━━━━━━━━━━━━━━━━━\u001b[0m\u001b[37m\u001b[0m \u001b[1m0s\u001b[0m 2s/step - accuracy: 0.5438 - loss: 0.0766\n",
            "Epoch 5: val_loss did not improve from 0.07188\n",
            "\u001b[1m29/29\u001b[0m \u001b[32m━━━━━━━━━━━━━━━━━━━━\u001b[0m\u001b[37m\u001b[0m \u001b[1m57s\u001b[0m 2s/step - accuracy: 0.5437 - loss: 0.0766 - val_accuracy: 0.5200 - val_loss: 0.0849\n",
            "Epoch 6/10\n",
            "\u001b[1m29/29\u001b[0m \u001b[32m━━━━━━━━━━━━━━━━━━━━\u001b[0m\u001b[37m\u001b[0m \u001b[1m0s\u001b[0m 2s/step - accuracy: 0.5030 - loss: 0.0785\n",
            "Epoch 6: val_loss did not improve from 0.07188\n",
            "\u001b[1m29/29\u001b[0m \u001b[32m━━━━━━━━━━━━━━━━━━━━\u001b[0m\u001b[37m\u001b[0m \u001b[1m81s\u001b[0m 2s/step - accuracy: 0.5036 - loss: 0.0784 - val_accuracy: 0.5100 - val_loss: 0.0846\n",
            "Epoch 7/10\n",
            "\u001b[1m29/29\u001b[0m \u001b[32m━━━━━━━━━━━━━━━━━━━━\u001b[0m\u001b[37m\u001b[0m \u001b[1m0s\u001b[0m 2s/step - accuracy: 0.5425 - loss: 0.0705\n",
            "Epoch 7: val_loss did not improve from 0.07188\n",
            "\u001b[1m29/29\u001b[0m \u001b[32m━━━━━━━━━━━━━━━━━━━━\u001b[0m\u001b[37m\u001b[0m \u001b[1m56s\u001b[0m 2s/step - accuracy: 0.5422 - loss: 0.0706 - val_accuracy: 0.5400 - val_loss: 0.0844\n",
            "\n",
            "📦 Loading chunk 11/22\n",
            "📊 Training on chunk 11 - Shape: (900, 5000, 12), Labels: (900, 44)\n",
            "Epoch 1/10\n",
            "\u001b[1m29/29\u001b[0m \u001b[32m━━━━━━━━━━━━━━━━━━━━\u001b[0m\u001b[37m\u001b[0m \u001b[1m0s\u001b[0m 2s/step - accuracy: 0.4522 - loss: 0.0871\n",
            "Epoch 1: val_loss did not improve from 0.07188\n",
            "\u001b[1m29/29\u001b[0m \u001b[32m━━━━━━━━━━━━━━━━━━━━\u001b[0m\u001b[37m\u001b[0m \u001b[1m57s\u001b[0m 2s/step - accuracy: 0.4530 - loss: 0.0871 - val_accuracy: 0.5400 - val_loss: 0.0796\n",
            "Epoch 2/10\n",
            "\u001b[1m29/29\u001b[0m \u001b[32m━━━━━━━━━━━━━━━━━━━━\u001b[0m\u001b[37m\u001b[0m \u001b[1m0s\u001b[0m 2s/step - accuracy: 0.4658 - loss: 0.0856\n",
            "Epoch 2: val_loss did not improve from 0.07188\n",
            "\u001b[1m29/29\u001b[0m \u001b[32m━━━━━━━━━━━━━━━━━━━━\u001b[0m\u001b[37m\u001b[0m \u001b[1m81s\u001b[0m 2s/step - accuracy: 0.4667 - loss: 0.0856 - val_accuracy: 0.5400 - val_loss: 0.0800\n",
            "Epoch 3/10\n",
            "\u001b[1m29/29\u001b[0m \u001b[32m━━━━━━━━━━━━━━━━━━━━\u001b[0m\u001b[37m\u001b[0m \u001b[1m0s\u001b[0m 2s/step - accuracy: 0.4603 - loss: 0.0873\n",
            "Epoch 3: val_loss did not improve from 0.07188\n",
            "\u001b[1m29/29\u001b[0m \u001b[32m━━━━━━━━━━━━━━━━━━━━\u001b[0m\u001b[37m\u001b[0m \u001b[1m56s\u001b[0m 2s/step - accuracy: 0.4611 - loss: 0.0872 - val_accuracy: 0.5200 - val_loss: 0.0787\n",
            "Epoch 4/10\n",
            "\u001b[1m29/29\u001b[0m \u001b[32m━━━━━━━━━━━━━━━━━━━━\u001b[0m\u001b[37m\u001b[0m \u001b[1m0s\u001b[0m 2s/step - accuracy: 0.5001 - loss: 0.0842\n",
            "Epoch 4: val_loss did not improve from 0.07188\n",
            "\u001b[1m29/29\u001b[0m \u001b[32m━━━━━━━━━━━━━━━━━━━━\u001b[0m\u001b[37m\u001b[0m \u001b[1m83s\u001b[0m 2s/step - accuracy: 0.5001 - loss: 0.0841 - val_accuracy: 0.5100 - val_loss: 0.0780\n",
            "Epoch 5/10\n",
            "\u001b[1m29/29\u001b[0m \u001b[32m━━━━━━━━━━━━━━━━━━━━\u001b[0m\u001b[37m\u001b[0m \u001b[1m0s\u001b[0m 2s/step - accuracy: 0.4867 - loss: 0.0816\n",
            "Epoch 5: val_loss did not improve from 0.07188\n",
            "\u001b[1m29/29\u001b[0m \u001b[32m━━━━━━━━━━━━━━━━━━━━\u001b[0m\u001b[37m\u001b[0m \u001b[1m82s\u001b[0m 2s/step - accuracy: 0.4872 - loss: 0.0815 - val_accuracy: 0.4900 - val_loss: 0.0785\n",
            "Epoch 6/10\n",
            "\u001b[1m29/29\u001b[0m \u001b[32m━━━━━━━━━━━━━━━━━━━━\u001b[0m\u001b[37m\u001b[0m \u001b[1m0s\u001b[0m 2s/step - accuracy: 0.5304 - loss: 0.0770\n",
            "Epoch 6: val_loss did not improve from 0.07188\n",
            "\u001b[1m29/29\u001b[0m \u001b[32m━━━━━━━━━━━━━━━━━━━━\u001b[0m\u001b[37m\u001b[0m \u001b[1m81s\u001b[0m 2s/step - accuracy: 0.5299 - loss: 0.0771 - val_accuracy: 0.5100 - val_loss: 0.0768\n",
            "Epoch 7/10\n",
            "\u001b[1m29/29\u001b[0m \u001b[32m━━━━━━━━━━━━━━━━━━━━\u001b[0m\u001b[37m\u001b[0m \u001b[1m0s\u001b[0m 2s/step - accuracy: 0.5115 - loss: 0.0812\n",
            "Epoch 7: val_loss did not improve from 0.07188\n",
            "\u001b[1m29/29\u001b[0m \u001b[32m━━━━━━━━━━━━━━━━━━━━\u001b[0m\u001b[37m\u001b[0m \u001b[1m58s\u001b[0m 2s/step - accuracy: 0.5116 - loss: 0.0811 - val_accuracy: 0.5300 - val_loss: 0.0769\n",
            "Epoch 8/10\n",
            "\u001b[1m29/29\u001b[0m \u001b[32m━━━━━━━━━━━━━━━━━━━━\u001b[0m\u001b[37m\u001b[0m \u001b[1m0s\u001b[0m 2s/step - accuracy: 0.5299 - loss: 0.0774\n",
            "Epoch 8: val_loss did not improve from 0.07188\n",
            "\u001b[1m29/29\u001b[0m \u001b[32m━━━━━━━━━━━━━━━━━━━━\u001b[0m\u001b[37m\u001b[0m \u001b[1m80s\u001b[0m 2s/step - accuracy: 0.5299 - loss: 0.0774 - val_accuracy: 0.5200 - val_loss: 0.0778\n",
            "Epoch 9/10\n",
            "\u001b[1m29/29\u001b[0m \u001b[32m━━━━━━━━━━━━━━━━━━━━\u001b[0m\u001b[37m\u001b[0m \u001b[1m0s\u001b[0m 2s/step - accuracy: 0.5309 - loss: 0.0774\n",
            "Epoch 9: val_loss did not improve from 0.07188\n",
            "\u001b[1m29/29\u001b[0m \u001b[32m━━━━━━━━━━━━━━━━━━━━\u001b[0m\u001b[37m\u001b[0m \u001b[1m84s\u001b[0m 2s/step - accuracy: 0.5307 - loss: 0.0774 - val_accuracy: 0.5200 - val_loss: 0.0777\n",
            "\n",
            "📦 Loading chunk 12/22\n",
            "📊 Training on chunk 12 - Shape: (900, 5000, 12), Labels: (900, 44)\n",
            "Epoch 1/10\n",
            "\u001b[1m29/29\u001b[0m \u001b[32m━━━━━━━━━━━━━━━━━━━━\u001b[0m\u001b[37m\u001b[0m \u001b[1m0s\u001b[0m 2s/step - accuracy: 0.5032 - loss: 0.0826\n",
            "Epoch 1: val_loss did not improve from 0.07188\n",
            "\u001b[1m29/29\u001b[0m \u001b[32m━━━━━━━━━━━━━━━━━━━━\u001b[0m\u001b[37m\u001b[0m \u001b[1m57s\u001b[0m 2s/step - accuracy: 0.5026 - loss: 0.0827 - val_accuracy: 0.5300 - val_loss: 0.0769\n",
            "Epoch 2/10\n",
            "\u001b[1m29/29\u001b[0m \u001b[32m━━━━━━━━━━━━━━━━━━━━\u001b[0m\u001b[37m\u001b[0m \u001b[1m0s\u001b[0m 2s/step - accuracy: 0.4864 - loss: 0.0848\n",
            "Epoch 2: val_loss did not improve from 0.07188\n",
            "\u001b[1m29/29\u001b[0m \u001b[32m━━━━━━━━━━━━━━━━━━━━\u001b[0m\u001b[37m\u001b[0m \u001b[1m81s\u001b[0m 2s/step - accuracy: 0.4870 - loss: 0.0847 - val_accuracy: 0.5900 - val_loss: 0.0732\n",
            "Epoch 3/10\n",
            "\u001b[1m29/29\u001b[0m \u001b[32m━━━━━━━━━━━━━━━━━━━━\u001b[0m\u001b[37m\u001b[0m \u001b[1m0s\u001b[0m 2s/step - accuracy: 0.5179 - loss: 0.0824\n",
            "Epoch 3: val_loss did not improve from 0.07188\n",
            "\u001b[1m29/29\u001b[0m \u001b[32m━━━━━━━━━━━━━━━━━━━━\u001b[0m\u001b[37m\u001b[0m \u001b[1m82s\u001b[0m 2s/step - accuracy: 0.5181 - loss: 0.0824 - val_accuracy: 0.5800 - val_loss: 0.0766\n",
            "Epoch 4/10\n",
            "\u001b[1m29/29\u001b[0m \u001b[32m━━━━━━━━━━━━━━━━━━━━\u001b[0m\u001b[37m\u001b[0m \u001b[1m0s\u001b[0m 2s/step - accuracy: 0.5415 - loss: 0.0803\n",
            "Epoch 4: val_loss did not improve from 0.07188\n",
            "\u001b[1m29/29\u001b[0m \u001b[32m━━━━━━━━━━━━━━━━━━━━\u001b[0m\u001b[37m\u001b[0m \u001b[1m83s\u001b[0m 2s/step - accuracy: 0.5403 - loss: 0.0804 - val_accuracy: 0.5600 - val_loss: 0.0752\n",
            "Epoch 5/10\n",
            "\u001b[1m29/29\u001b[0m \u001b[32m━━━━━━━━━━━━━━━━━━━━\u001b[0m\u001b[37m\u001b[0m \u001b[1m0s\u001b[0m 2s/step - accuracy: 0.5754 - loss: 0.0767\n",
            "Epoch 5: val_loss did not improve from 0.07188\n",
            "\u001b[1m29/29\u001b[0m \u001b[32m━━━━━━━━━━━━━━━━━━━━\u001b[0m\u001b[37m\u001b[0m \u001b[1m80s\u001b[0m 2s/step - accuracy: 0.5745 - loss: 0.0768 - val_accuracy: 0.5600 - val_loss: 0.0748\n",
            "\n",
            "📦 Loading chunk 13/22\n",
            "📊 Training on chunk 13 - Shape: (900, 5000, 12), Labels: (900, 44)\n",
            "Epoch 1/10\n",
            "\u001b[1m29/29\u001b[0m \u001b[32m━━━━━━━━━━━━━━━━━━━━\u001b[0m\u001b[37m\u001b[0m \u001b[1m0s\u001b[0m 2s/step - accuracy: 0.6160 - loss: 0.0646\n",
            "Epoch 1: val_loss did not improve from 0.07188\n",
            "\u001b[1m29/29\u001b[0m \u001b[32m━━━━━━━━━━━━━━━━━━━━\u001b[0m\u001b[37m\u001b[0m \u001b[1m56s\u001b[0m 2s/step - accuracy: 0.6155 - loss: 0.0646 - val_accuracy: 0.5900 - val_loss: 0.0766\n",
            "Epoch 2/10\n",
            "\u001b[1m29/29\u001b[0m \u001b[32m━━━━━━━━━━━━━━━━━━━━\u001b[0m\u001b[37m\u001b[0m \u001b[1m0s\u001b[0m 2s/step - accuracy: 0.6331 - loss: 0.0643\n",
            "Epoch 2: val_loss did not improve from 0.07188\n",
            "\u001b[1m29/29\u001b[0m \u001b[32m━━━━━━━━━━━━━━━━━━━━\u001b[0m\u001b[37m\u001b[0m \u001b[1m85s\u001b[0m 2s/step - accuracy: 0.6327 - loss: 0.0643 - val_accuracy: 0.6100 - val_loss: 0.0756\n",
            "Epoch 3/10\n",
            "\u001b[1m29/29\u001b[0m \u001b[32m━━━━━━━━━━━━━━━━━━━━\u001b[0m\u001b[37m\u001b[0m \u001b[1m0s\u001b[0m 2s/step - accuracy: 0.6215 - loss: 0.0630\n",
            "Epoch 3: val_loss did not improve from 0.07188\n",
            "\u001b[1m29/29\u001b[0m \u001b[32m━━━━━━━━━━━━━━━━━━━━\u001b[0m\u001b[37m\u001b[0m \u001b[1m65s\u001b[0m 2s/step - accuracy: 0.6214 - loss: 0.0630 - val_accuracy: 0.6000 - val_loss: 0.0771\n",
            "Epoch 4/10\n",
            "\u001b[1m29/29\u001b[0m \u001b[32m━━━━━━━━━━━━━━━━━━━━\u001b[0m\u001b[37m\u001b[0m \u001b[1m0s\u001b[0m 2s/step - accuracy: 0.6322 - loss: 0.0631\n",
            "Epoch 4: val_loss did not improve from 0.07188\n",
            "\u001b[1m29/29\u001b[0m \u001b[32m━━━━━━━━━━━━━━━━━━━━\u001b[0m\u001b[37m\u001b[0m \u001b[1m73s\u001b[0m 2s/step - accuracy: 0.6319 - loss: 0.0631 - val_accuracy: 0.6000 - val_loss: 0.0776\n",
            "Epoch 5/10\n",
            "\u001b[1m29/29\u001b[0m \u001b[32m━━━━━━━━━━━━━━━━━━━━\u001b[0m\u001b[37m\u001b[0m \u001b[1m0s\u001b[0m 2s/step - accuracy: 0.6358 - loss: 0.0588\n",
            "Epoch 5: val_loss did not improve from 0.07188\n",
            "\u001b[1m29/29\u001b[0m \u001b[32m━━━━━━━━━━━━━━━━━━━━\u001b[0m\u001b[37m\u001b[0m \u001b[1m83s\u001b[0m 2s/step - accuracy: 0.6354 - loss: 0.0588 - val_accuracy: 0.6300 - val_loss: 0.0764\n",
            "\n",
            "📦 Loading chunk 14/22\n",
            "📊 Training on chunk 14 - Shape: (900, 5000, 12), Labels: (900, 44)\n",
            "Epoch 1/10\n",
            "\u001b[1m29/29\u001b[0m \u001b[32m━━━━━━━━━━━━━━━━━━━━\u001b[0m\u001b[37m\u001b[0m \u001b[1m0s\u001b[0m 2s/step - accuracy: 0.4535 - loss: 0.0873\n",
            "Epoch 1: val_loss did not improve from 0.07188\n",
            "\u001b[1m29/29\u001b[0m \u001b[32m━━━━━━━━━━━━━━━━━━━━\u001b[0m\u001b[37m\u001b[0m \u001b[1m57s\u001b[0m 2s/step - accuracy: 0.4537 - loss: 0.0873 - val_accuracy: 0.4800 - val_loss: 0.0826\n",
            "Epoch 2/10\n",
            "\u001b[1m29/29\u001b[0m \u001b[32m━━━━━━━━━━━━━━━━━━━━\u001b[0m\u001b[37m\u001b[0m \u001b[1m0s\u001b[0m 2s/step - accuracy: 0.4573 - loss: 0.0888\n",
            "Epoch 2: val_loss did not improve from 0.07188\n",
            "\u001b[1m29/29\u001b[0m \u001b[32m━━━━━━━━━━━━━━━━━━━━\u001b[0m\u001b[37m\u001b[0m \u001b[1m81s\u001b[0m 2s/step - accuracy: 0.4579 - loss: 0.0887 - val_accuracy: 0.4900 - val_loss: 0.0826\n",
            "Epoch 3/10\n",
            "\u001b[1m29/29\u001b[0m \u001b[32m━━━━━━━━━━━━━━━━━━━━\u001b[0m\u001b[37m\u001b[0m \u001b[1m0s\u001b[0m 2s/step - accuracy: 0.4836 - loss: 0.0836\n",
            "Epoch 3: val_loss did not improve from 0.07188\n",
            "\u001b[1m29/29\u001b[0m \u001b[32m━━━━━━━━━━━━━━━━━━━━\u001b[0m\u001b[37m\u001b[0m \u001b[1m84s\u001b[0m 2s/step - accuracy: 0.4833 - loss: 0.0836 - val_accuracy: 0.5000 - val_loss: 0.0814\n",
            "Epoch 4/10\n",
            "\u001b[1m29/29\u001b[0m \u001b[32m━━━━━━━━━━━━━━━━━━━━\u001b[0m\u001b[37m\u001b[0m \u001b[1m0s\u001b[0m 2s/step - accuracy: 0.4704 - loss: 0.0821\n",
            "Epoch 4: val_loss did not improve from 0.07188\n",
            "\u001b[1m29/29\u001b[0m \u001b[32m━━━━━━━━━━━━━━━━━━━━\u001b[0m\u001b[37m\u001b[0m \u001b[1m81s\u001b[0m 2s/step - accuracy: 0.4707 - loss: 0.0821 - val_accuracy: 0.5200 - val_loss: 0.0835\n",
            "Epoch 5/10\n",
            "\u001b[1m29/29\u001b[0m \u001b[32m━━━━━━━━━━━━━━━━━━━━\u001b[0m\u001b[37m\u001b[0m \u001b[1m0s\u001b[0m 2s/step - accuracy: 0.4951 - loss: 0.0854\n",
            "Epoch 5: val_loss did not improve from 0.07188\n",
            "\u001b[1m29/29\u001b[0m \u001b[32m━━━━━━━━━━━━━━━━━━━━\u001b[0m\u001b[37m\u001b[0m \u001b[1m80s\u001b[0m 2s/step - accuracy: 0.4949 - loss: 0.0853 - val_accuracy: 0.5100 - val_loss: 0.0806\n",
            "Epoch 6/10\n",
            "\u001b[1m29/29\u001b[0m \u001b[32m━━━━━━━━━━━━━━━━━━━━\u001b[0m\u001b[37m\u001b[0m \u001b[1m0s\u001b[0m 2s/step - accuracy: 0.4925 - loss: 0.0823\n",
            "Epoch 6: val_loss did not improve from 0.07188\n",
            "\u001b[1m29/29\u001b[0m \u001b[32m━━━━━━━━━━━━━━━━━━━━\u001b[0m\u001b[37m\u001b[0m \u001b[1m88s\u001b[0m 2s/step - accuracy: 0.4921 - loss: 0.0823 - val_accuracy: 0.5100 - val_loss: 0.0813\n",
            "Epoch 7/10\n",
            "\u001b[1m29/29\u001b[0m \u001b[32m━━━━━━━━━━━━━━━━━━━━\u001b[0m\u001b[37m\u001b[0m \u001b[1m0s\u001b[0m 2s/step - accuracy: 0.5018 - loss: 0.0825\n",
            "Epoch 7: val_loss did not improve from 0.07188\n",
            "\u001b[1m29/29\u001b[0m \u001b[32m━━━━━━━━━━━━━━━━━━━━\u001b[0m\u001b[37m\u001b[0m \u001b[1m56s\u001b[0m 2s/step - accuracy: 0.5016 - loss: 0.0824 - val_accuracy: 0.4900 - val_loss: 0.0825\n",
            "Epoch 8/10\n",
            "\u001b[1m29/29\u001b[0m \u001b[32m━━━━━━━━━━━━━━━━━━━━\u001b[0m\u001b[37m\u001b[0m \u001b[1m0s\u001b[0m 2s/step - accuracy: 0.4712 - loss: 0.0841\n",
            "Epoch 8: val_loss did not improve from 0.07188\n",
            "\u001b[1m29/29\u001b[0m \u001b[32m━━━━━━━━━━━━━━━━━━━━\u001b[0m\u001b[37m\u001b[0m \u001b[1m82s\u001b[0m 2s/step - accuracy: 0.4720 - loss: 0.0840 - val_accuracy: 0.5700 - val_loss: 0.0806\n",
            "\n",
            "📦 Loading chunk 15/22\n",
            "📊 Training on chunk 15 - Shape: (386, 5000, 12), Labels: (386, 44)\n",
            "Epoch 1/10\n",
            "\u001b[1m13/13\u001b[0m \u001b[32m━━━━━━━━━━━━━━━━━━━━\u001b[0m\u001b[37m\u001b[0m \u001b[1m0s\u001b[0m 2s/step - accuracy: 0.4957 - loss: 0.0835\n",
            "Epoch 1: val_loss did not improve from 0.07188\n",
            "\u001b[1m13/13\u001b[0m \u001b[32m━━━━━━━━━━━━━━━━━━━━\u001b[0m\u001b[37m\u001b[0m \u001b[1m24s\u001b[0m 2s/step - accuracy: 0.4962 - loss: 0.0836 - val_accuracy: 0.5116 - val_loss: 0.0737\n",
            "Epoch 2/10\n",
            "\u001b[1m13/13\u001b[0m \u001b[32m━━━━━━━━━━━━━━━━━━━━\u001b[0m\u001b[37m\u001b[0m \u001b[1m0s\u001b[0m 2s/step - accuracy: 0.5189 - loss: 0.0875\n",
            "Epoch 2: val_loss did not improve from 0.07188\n",
            "\u001b[1m13/13\u001b[0m \u001b[32m━━━━━━━━━━━━━━━━━━━━\u001b[0m\u001b[37m\u001b[0m \u001b[1m24s\u001b[0m 2s/step - accuracy: 0.5164 - loss: 0.0877 - val_accuracy: 0.4651 - val_loss: 0.0794\n",
            "Epoch 3/10\n",
            "\u001b[1m13/13\u001b[0m \u001b[32m━━━━━━━━━━━━━━━━━━━━\u001b[0m\u001b[37m\u001b[0m \u001b[1m0s\u001b[0m 2s/step - accuracy: 0.4905 - loss: 0.0882\n",
            "Epoch 3: val_loss did not improve from 0.07188\n",
            "\u001b[1m13/13\u001b[0m \u001b[32m━━━━━━━━━━━━━━━━━━━━\u001b[0m\u001b[37m\u001b[0m \u001b[1m42s\u001b[0m 2s/step - accuracy: 0.4912 - loss: 0.0880 - val_accuracy: 0.4884 - val_loss: 0.0730\n",
            "Epoch 4/10\n",
            "\u001b[1m13/13\u001b[0m \u001b[32m━━━━━━━━━━━━━━━━━━━━\u001b[0m\u001b[37m\u001b[0m \u001b[1m0s\u001b[0m 2s/step - accuracy: 0.4695 - loss: 0.0862\n",
            "Epoch 4: val_loss did not improve from 0.07188\n",
            "\u001b[1m13/13\u001b[0m \u001b[32m━━━━━━━━━━━━━━━━━━━━\u001b[0m\u001b[37m\u001b[0m \u001b[1m25s\u001b[0m 2s/step - accuracy: 0.4719 - loss: 0.0860 - val_accuracy: 0.4884 - val_loss: 0.0733\n",
            "Epoch 5/10\n",
            "\u001b[1m13/13\u001b[0m \u001b[32m━━━━━━━━━━━━━━━━━━━━\u001b[0m\u001b[37m\u001b[0m \u001b[1m0s\u001b[0m 2s/step - accuracy: 0.5004 - loss: 0.0801\n",
            "Epoch 5: val_loss improved from 0.07188 to 0.07181, saving model to /content/drive/MyDrive/PTB_model/classifier_500Hz.keras\n",
            "\u001b[1m13/13\u001b[0m \u001b[32m━━━━━━━━━━━━━━━━━━━━\u001b[0m\u001b[37m\u001b[0m \u001b[1m41s\u001b[0m 2s/step - accuracy: 0.5005 - loss: 0.0800 - val_accuracy: 0.4884 - val_loss: 0.0718\n",
            "Epoch 6/10\n",
            "\u001b[1m13/13\u001b[0m \u001b[32m━━━━━━━━━━━━━━━━━━━━\u001b[0m\u001b[37m\u001b[0m \u001b[1m0s\u001b[0m 2s/step - accuracy: 0.4925 - loss: 0.0791\n",
            "Epoch 6: val_loss did not improve from 0.07181\n",
            "\u001b[1m13/13\u001b[0m \u001b[32m━━━━━━━━━━━━━━━━━━━━\u001b[0m\u001b[37m\u001b[0m \u001b[1m24s\u001b[0m 2s/step - accuracy: 0.4948 - loss: 0.0790 - val_accuracy: 0.4419 - val_loss: 0.0734\n",
            "Epoch 7/10\n",
            "\u001b[1m13/13\u001b[0m \u001b[32m━━━━━━━━━━━━━━━━━━━━\u001b[0m\u001b[37m\u001b[0m \u001b[1m0s\u001b[0m 2s/step - accuracy: 0.5769 - loss: 0.0784\n",
            "Epoch 7: val_loss did not improve from 0.07181\n",
            "\u001b[1m13/13\u001b[0m \u001b[32m━━━━━━━━━━━━━━━━━━━━\u001b[0m\u001b[37m\u001b[0m \u001b[1m26s\u001b[0m 2s/step - accuracy: 0.5742 - loss: 0.0783 - val_accuracy: 0.4419 - val_loss: 0.0747\n",
            "Epoch 8/10\n",
            "\u001b[1m13/13\u001b[0m \u001b[32m━━━━━━━━━━━━━━━━━━━━\u001b[0m\u001b[37m\u001b[0m \u001b[1m0s\u001b[0m 2s/step - accuracy: 0.5254 - loss: 0.0796\n",
            "Epoch 8: val_loss improved from 0.07181 to 0.06991, saving model to /content/drive/MyDrive/PTB_model/classifier_500Hz.keras\n",
            "\u001b[1m13/13\u001b[0m \u001b[32m━━━━━━━━━━━━━━━━━━━━\u001b[0m\u001b[37m\u001b[0m \u001b[1m42s\u001b[0m 2s/step - accuracy: 0.5263 - loss: 0.0793 - val_accuracy: 0.5116 - val_loss: 0.0699\n",
            "Epoch 9/10\n",
            "\u001b[1m13/13\u001b[0m \u001b[32m━━━━━━━━━━━━━━━━━━━━\u001b[0m\u001b[37m\u001b[0m \u001b[1m0s\u001b[0m 2s/step - accuracy: 0.5171 - loss: 0.0779\n",
            "Epoch 9: val_loss did not improve from 0.06991\n",
            "\u001b[1m13/13\u001b[0m \u001b[32m━━━━━━━━━━━━━━━━━━━━\u001b[0m\u001b[37m\u001b[0m \u001b[1m40s\u001b[0m 2s/step - accuracy: 0.5190 - loss: 0.0777 - val_accuracy: 0.5116 - val_loss: 0.0713\n",
            "Epoch 10/10\n",
            "\u001b[1m13/13\u001b[0m \u001b[32m━━━━━━━━━━━━━━━━━━━━\u001b[0m\u001b[37m\u001b[0m \u001b[1m0s\u001b[0m 2s/step - accuracy: 0.5435 - loss: 0.0750\n",
            "Epoch 10: val_loss did not improve from 0.06991\n",
            "\u001b[1m13/13\u001b[0m \u001b[32m━━━━━━━━━━━━━━━━━━━━\u001b[0m\u001b[37m\u001b[0m \u001b[1m26s\u001b[0m 2s/step - accuracy: 0.5435 - loss: 0.0750 - val_accuracy: 0.4651 - val_loss: 0.0702\n",
            "\n",
            "📦 Loading chunk 16/22\n",
            "📊 Training on chunk 16 - Shape: (900, 5000, 12), Labels: (900, 44)\n",
            "Epoch 1/10\n",
            "\u001b[1m29/29\u001b[0m \u001b[32m━━━━━━━━━━━━━━━━━━━━\u001b[0m\u001b[37m\u001b[0m \u001b[1m0s\u001b[0m 2s/step - accuracy: 0.5306 - loss: 0.0763\n",
            "Epoch 1: val_loss did not improve from 0.06991\n",
            "\u001b[1m29/29\u001b[0m \u001b[32m━━━━━━━━━━━━━━━━━━━━\u001b[0m\u001b[37m\u001b[0m \u001b[1m62s\u001b[0m 2s/step - accuracy: 0.5311 - loss: 0.0762 - val_accuracy: 0.4900 - val_loss: 0.0811\n",
            "Epoch 2/10\n",
            "\u001b[1m29/29\u001b[0m \u001b[32m━━━━━━━━━━━━━━━━━━━━\u001b[0m\u001b[37m\u001b[0m \u001b[1m0s\u001b[0m 2s/step - accuracy: 0.5596 - loss: 0.0734\n",
            "Epoch 2: val_loss did not improve from 0.06991\n",
            "\u001b[1m29/29\u001b[0m \u001b[32m━━━━━━━━━━━━━━━━━━━━\u001b[0m\u001b[37m\u001b[0m \u001b[1m55s\u001b[0m 2s/step - accuracy: 0.5600 - loss: 0.0733 - val_accuracy: 0.5100 - val_loss: 0.0769\n",
            "Epoch 3/10\n",
            "\u001b[1m29/29\u001b[0m \u001b[32m━━━━━━━━━━━━━━━━━━━━\u001b[0m\u001b[37m\u001b[0m \u001b[1m0s\u001b[0m 2s/step - accuracy: 0.5845 - loss: 0.0682\n",
            "Epoch 3: val_loss did not improve from 0.06991\n",
            "\u001b[1m29/29\u001b[0m \u001b[32m━━━━━━━━━━━━━━━━━━━━\u001b[0m\u001b[37m\u001b[0m \u001b[1m83s\u001b[0m 2s/step - accuracy: 0.5842 - loss: 0.0682 - val_accuracy: 0.5300 - val_loss: 0.0786\n",
            "Epoch 4/10\n",
            "\u001b[1m29/29\u001b[0m \u001b[32m━━━━━━━━━━━━━━━━━━━━\u001b[0m\u001b[37m\u001b[0m \u001b[1m0s\u001b[0m 2s/step - accuracy: 0.5755 - loss: 0.0697\n",
            "Epoch 4: val_loss did not improve from 0.06991\n",
            "\u001b[1m29/29\u001b[0m \u001b[32m━━━━━━━━━━━━━━━━━━━━\u001b[0m\u001b[37m\u001b[0m \u001b[1m59s\u001b[0m 2s/step - accuracy: 0.5756 - loss: 0.0697 - val_accuracy: 0.5200 - val_loss: 0.0747\n",
            "Epoch 5/10\n",
            "\u001b[1m29/29\u001b[0m \u001b[32m━━━━━━━━━━━━━━━━━━━━\u001b[0m\u001b[37m\u001b[0m \u001b[1m0s\u001b[0m 2s/step - accuracy: 0.5877 - loss: 0.0685\n",
            "Epoch 5: val_loss did not improve from 0.06991\n",
            "\u001b[1m29/29\u001b[0m \u001b[32m━━━━━━━━━━━━━━━━━━━━\u001b[0m\u001b[37m\u001b[0m \u001b[1m57s\u001b[0m 2s/step - accuracy: 0.5876 - loss: 0.0684 - val_accuracy: 0.5100 - val_loss: 0.0756\n",
            "Epoch 6/10\n",
            "\u001b[1m29/29\u001b[0m \u001b[32m━━━━━━━━━━━━━━━━━━━━\u001b[0m\u001b[37m\u001b[0m \u001b[1m0s\u001b[0m 2s/step - accuracy: 0.6157 - loss: 0.0622\n",
            "Epoch 6: val_loss did not improve from 0.06991\n",
            "\u001b[1m29/29\u001b[0m \u001b[32m━━━━━━━━━━━━━━━━━━━━\u001b[0m\u001b[37m\u001b[0m \u001b[1m81s\u001b[0m 2s/step - accuracy: 0.6144 - loss: 0.0623 - val_accuracy: 0.5100 - val_loss: 0.0765\n",
            "Epoch 7/10\n",
            "\u001b[1m29/29\u001b[0m \u001b[32m━━━━━━━━━━━━━━━━━━━━\u001b[0m\u001b[37m\u001b[0m \u001b[1m0s\u001b[0m 2s/step - accuracy: 0.6028 - loss: 0.0657\n",
            "Epoch 7: val_loss did not improve from 0.06991\n",
            "\u001b[1m29/29\u001b[0m \u001b[32m━━━━━━━━━━━━━━━━━━━━\u001b[0m\u001b[37m\u001b[0m \u001b[1m57s\u001b[0m 2s/step - accuracy: 0.6026 - loss: 0.0657 - val_accuracy: 0.5300 - val_loss: 0.0758\n",
            "\n",
            "📦 Loading chunk 17/22\n",
            "📊 Training on chunk 17 - Shape: (900, 5000, 12), Labels: (900, 44)\n",
            "Epoch 1/10\n",
            "\u001b[1m29/29\u001b[0m \u001b[32m━━━━━━━━━━━━━━━━━━━━\u001b[0m\u001b[37m\u001b[0m \u001b[1m0s\u001b[0m 2s/step - accuracy: 0.5311 - loss: 0.0791\n",
            "Epoch 1: val_loss did not improve from 0.06991\n",
            "\u001b[1m29/29\u001b[0m \u001b[32m━━━━━━━━━━━━━━━━━━━━\u001b[0m\u001b[37m\u001b[0m \u001b[1m56s\u001b[0m 2s/step - accuracy: 0.5309 - loss: 0.0791 - val_accuracy: 0.5200 - val_loss: 0.0770\n",
            "Epoch 2/10\n",
            "\u001b[1m29/29\u001b[0m \u001b[32m━━━━━━━━━━━━━━━━━━━━\u001b[0m\u001b[37m\u001b[0m \u001b[1m0s\u001b[0m 2s/step - accuracy: 0.5428 - loss: 0.0743\n",
            "Epoch 2: val_loss did not improve from 0.06991\n",
            "\u001b[1m29/29\u001b[0m \u001b[32m━━━━━━━━━━━━━━━━━━━━\u001b[0m\u001b[37m\u001b[0m \u001b[1m56s\u001b[0m 2s/step - accuracy: 0.5426 - loss: 0.0744 - val_accuracy: 0.5300 - val_loss: 0.0766\n",
            "Epoch 3/10\n",
            "\u001b[1m29/29\u001b[0m \u001b[32m━━━━━━━━━━━━━━━━━━━━\u001b[0m\u001b[37m\u001b[0m \u001b[1m0s\u001b[0m 2s/step - accuracy: 0.5355 - loss: 0.0747\n",
            "Epoch 3: val_loss did not improve from 0.06991\n",
            "\u001b[1m29/29\u001b[0m \u001b[32m━━━━━━━━━━━━━━━━━━━━\u001b[0m\u001b[37m\u001b[0m \u001b[1m87s\u001b[0m 2s/step - accuracy: 0.5359 - loss: 0.0747 - val_accuracy: 0.5500 - val_loss: 0.0746\n",
            "Epoch 4/10\n",
            "\u001b[1m29/29\u001b[0m \u001b[32m━━━━━━━━━━━━━━━━━━━━\u001b[0m\u001b[37m\u001b[0m \u001b[1m0s\u001b[0m 2s/step - accuracy: 0.5139 - loss: 0.0775\n",
            "Epoch 4: val_loss did not improve from 0.06991\n",
            "\u001b[1m29/29\u001b[0m \u001b[32m━━━━━━━━━━━━━━━━━━━━\u001b[0m\u001b[37m\u001b[0m \u001b[1m56s\u001b[0m 2s/step - accuracy: 0.5153 - loss: 0.0774 - val_accuracy: 0.5200 - val_loss: 0.0768\n",
            "Epoch 5/10\n",
            "\u001b[1m29/29\u001b[0m \u001b[32m━━━━━━━━━━━━━━━━━━━━\u001b[0m\u001b[37m\u001b[0m \u001b[1m0s\u001b[0m 2s/step - accuracy: 0.5388 - loss: 0.0737\n",
            "Epoch 5: val_loss did not improve from 0.06991\n",
            "\u001b[1m29/29\u001b[0m \u001b[32m━━━━━━━━━━━━━━━━━━━━\u001b[0m\u001b[37m\u001b[0m \u001b[1m81s\u001b[0m 2s/step - accuracy: 0.5394 - loss: 0.0737 - val_accuracy: 0.5300 - val_loss: 0.0754\n",
            "Epoch 6/10\n",
            "\u001b[1m29/29\u001b[0m \u001b[32m━━━━━━━━━━━━━━━━━━━━\u001b[0m\u001b[37m\u001b[0m \u001b[1m0s\u001b[0m 2s/step - accuracy: 0.5858 - loss: 0.0692\n",
            "Epoch 6: val_loss did not improve from 0.06991\n",
            "\u001b[1m29/29\u001b[0m \u001b[32m━━━━━━━━━━━━━━━━━━━━\u001b[0m\u001b[37m\u001b[0m \u001b[1m56s\u001b[0m 2s/step - accuracy: 0.5846 - loss: 0.0694 - val_accuracy: 0.5400 - val_loss: 0.0740\n",
            "Epoch 7/10\n",
            "\u001b[1m29/29\u001b[0m \u001b[32m━━━━━━━━━━━━━━━━━━━━\u001b[0m\u001b[37m\u001b[0m \u001b[1m0s\u001b[0m 2s/step - accuracy: 0.5783 - loss: 0.0699\n",
            "Epoch 7: val_loss did not improve from 0.06991\n",
            "\u001b[1m29/29\u001b[0m \u001b[32m━━━━━━━━━━━━━━━━━━━━\u001b[0m\u001b[37m\u001b[0m \u001b[1m81s\u001b[0m 2s/step - accuracy: 0.5779 - loss: 0.0700 - val_accuracy: 0.5300 - val_loss: 0.0760\n",
            "Epoch 8/10\n",
            "\u001b[1m29/29\u001b[0m \u001b[32m━━━━━━━━━━━━━━━━━━━━\u001b[0m\u001b[37m\u001b[0m \u001b[1m0s\u001b[0m 2s/step - accuracy: 0.5774 - loss: 0.0735\n",
            "Epoch 8: val_loss did not improve from 0.06991\n",
            "\u001b[1m29/29\u001b[0m \u001b[32m━━━━━━━━━━━━━━━━━━━━\u001b[0m\u001b[37m\u001b[0m \u001b[1m81s\u001b[0m 2s/step - accuracy: 0.5770 - loss: 0.0735 - val_accuracy: 0.5600 - val_loss: 0.0752\n",
            "Epoch 9/10\n",
            "\u001b[1m29/29\u001b[0m \u001b[32m━━━━━━━━━━━━━━━━━━━━\u001b[0m\u001b[37m\u001b[0m \u001b[1m0s\u001b[0m 2s/step - accuracy: 0.5475 - loss: 0.0699\n",
            "Epoch 9: val_loss did not improve from 0.06991\n",
            "\u001b[1m29/29\u001b[0m \u001b[32m━━━━━━━━━━━━━━━━━━━━\u001b[0m\u001b[37m\u001b[0m \u001b[1m83s\u001b[0m 2s/step - accuracy: 0.5480 - loss: 0.0699 - val_accuracy: 0.5600 - val_loss: 0.0745\n",
            "\n",
            "📦 Loading chunk 18/22\n",
            "📊 Training on chunk 18 - Shape: (900, 5000, 12), Labels: (900, 44)\n",
            "Epoch 1/10\n",
            "\u001b[1m29/29\u001b[0m \u001b[32m━━━━━━━━━━━━━━━━━━━━\u001b[0m\u001b[37m\u001b[0m \u001b[1m0s\u001b[0m 2s/step - accuracy: 0.5747 - loss: 0.0762\n",
            "Epoch 1: val_loss did not improve from 0.06991\n",
            "\u001b[1m29/29\u001b[0m \u001b[32m━━━━━━━━━━━━━━━━━━━━\u001b[0m\u001b[37m\u001b[0m \u001b[1m56s\u001b[0m 2s/step - accuracy: 0.5742 - loss: 0.0763 - val_accuracy: 0.5500 - val_loss: 0.0734\n",
            "Epoch 2/10\n",
            "\u001b[1m29/29\u001b[0m \u001b[32m━━━━━━━━━━━━━━━━━━━━\u001b[0m\u001b[37m\u001b[0m \u001b[1m0s\u001b[0m 2s/step - accuracy: 0.5415 - loss: 0.0757\n",
            "Epoch 2: val_loss did not improve from 0.06991\n",
            "\u001b[1m29/29\u001b[0m \u001b[32m━━━━━━━━━━━━━━━━━━━━\u001b[0m\u001b[37m\u001b[0m \u001b[1m89s\u001b[0m 2s/step - accuracy: 0.5418 - loss: 0.0757 - val_accuracy: 0.5500 - val_loss: 0.0721\n",
            "Epoch 3/10\n",
            "\u001b[1m29/29\u001b[0m \u001b[32m━━━━━━━━━━━━━━━━━━━━\u001b[0m\u001b[37m\u001b[0m \u001b[1m0s\u001b[0m 2s/step - accuracy: 0.5490 - loss: 0.0744\n",
            "Epoch 3: val_loss did not improve from 0.06991\n",
            "\u001b[1m29/29\u001b[0m \u001b[32m━━━━━━━━━━━━━━━━━━━━\u001b[0m\u001b[37m\u001b[0m \u001b[1m79s\u001b[0m 2s/step - accuracy: 0.5495 - loss: 0.0744 - val_accuracy: 0.5200 - val_loss: 0.0722\n",
            "Epoch 4/10\n",
            "\u001b[1m29/29\u001b[0m \u001b[32m━━━━━━━━━━━━━━━━━━━━\u001b[0m\u001b[37m\u001b[0m \u001b[1m0s\u001b[0m 2s/step - accuracy: 0.5605 - loss: 0.0728\n",
            "Epoch 4: val_loss did not improve from 0.06991\n",
            "\u001b[1m29/29\u001b[0m \u001b[32m━━━━━━━━━━━━━━━━━━━━\u001b[0m\u001b[37m\u001b[0m \u001b[1m79s\u001b[0m 2s/step - accuracy: 0.5610 - loss: 0.0727 - val_accuracy: 0.5700 - val_loss: 0.0720\n",
            "Epoch 5/10\n",
            "\u001b[1m29/29\u001b[0m \u001b[32m━━━━━━━━━━━━━━━━━━━━\u001b[0m\u001b[37m\u001b[0m \u001b[1m0s\u001b[0m 2s/step - accuracy: 0.6005 - loss: 0.0683\n",
            "Epoch 5: val_loss did not improve from 0.06991\n",
            "\u001b[1m29/29\u001b[0m \u001b[32m━━━━━━━━━━━━━━━━━━━━\u001b[0m\u001b[37m\u001b[0m \u001b[1m83s\u001b[0m 2s/step - accuracy: 0.6001 - loss: 0.0684 - val_accuracy: 0.5500 - val_loss: 0.0734\n",
            "Epoch 6/10\n",
            "\u001b[1m29/29\u001b[0m \u001b[32m━━━━━━━━━━━━━━━━━━━━\u001b[0m\u001b[37m\u001b[0m \u001b[1m0s\u001b[0m 2s/step - accuracy: 0.5803 - loss: 0.0697\n",
            "Epoch 6: val_loss did not improve from 0.06991\n",
            "\u001b[1m29/29\u001b[0m \u001b[32m━━━━━━━━━━━━━━━━━━━━\u001b[0m\u001b[37m\u001b[0m \u001b[1m82s\u001b[0m 2s/step - accuracy: 0.5805 - loss: 0.0697 - val_accuracy: 0.5600 - val_loss: 0.0723\n",
            "Epoch 7/10\n",
            "\u001b[1m29/29\u001b[0m \u001b[32m━━━━━━━━━━━━━━━━━━━━\u001b[0m\u001b[37m\u001b[0m \u001b[1m0s\u001b[0m 2s/step - accuracy: 0.5288 - loss: 0.0725\n",
            "Epoch 7: val_loss did not improve from 0.06991\n",
            "\u001b[1m29/29\u001b[0m \u001b[32m━━━━━━━━━━━━━━━━━━━━\u001b[0m\u001b[37m\u001b[0m \u001b[1m58s\u001b[0m 2s/step - accuracy: 0.5302 - loss: 0.0724 - val_accuracy: 0.5800 - val_loss: 0.0716\n",
            "Epoch 8/10\n",
            "\u001b[1m29/29\u001b[0m \u001b[32m━━━━━━━━━━━━━━━━━━━━\u001b[0m\u001b[37m\u001b[0m \u001b[1m0s\u001b[0m 2s/step - accuracy: 0.5930 - loss: 0.0687\n",
            "Epoch 8: val_loss did not improve from 0.06991\n",
            "\u001b[1m29/29\u001b[0m \u001b[32m━━━━━━━━━━━━━━━━━━━━\u001b[0m\u001b[37m\u001b[0m \u001b[1m83s\u001b[0m 2s/step - accuracy: 0.5934 - loss: 0.0687 - val_accuracy: 0.5800 - val_loss: 0.0724\n",
            "Epoch 9/10\n",
            "\u001b[1m29/29\u001b[0m \u001b[32m━━━━━━━━━━━━━━━━━━━━\u001b[0m\u001b[37m\u001b[0m \u001b[1m0s\u001b[0m 2s/step - accuracy: 0.6051 - loss: 0.0680\n",
            "Epoch 9: val_loss did not improve from 0.06991\n",
            "\u001b[1m29/29\u001b[0m \u001b[32m━━━━━━━━━━━━━━━━━━━━\u001b[0m\u001b[37m\u001b[0m \u001b[1m58s\u001b[0m 2s/step - accuracy: 0.6050 - loss: 0.0679 - val_accuracy: 0.6000 - val_loss: 0.0713\n",
            "Epoch 10/10\n",
            "\u001b[1m29/29\u001b[0m \u001b[32m━━━━━━━━━━━━━━━━━━━━\u001b[0m\u001b[37m\u001b[0m \u001b[1m0s\u001b[0m 2s/step - accuracy: 0.6023 - loss: 0.0693\n",
            "Epoch 10: val_loss did not improve from 0.06991\n",
            "\u001b[1m29/29\u001b[0m \u001b[32m━━━━━━━━━━━━━━━━━━━━\u001b[0m\u001b[37m\u001b[0m \u001b[1m89s\u001b[0m 2s/step - accuracy: 0.6022 - loss: 0.0692 - val_accuracy: 0.5600 - val_loss: 0.0711\n",
            "\n",
            "📦 Loading chunk 19/22\n",
            "📊 Training on chunk 19 - Shape: (900, 5000, 12), Labels: (900, 44)\n",
            "Epoch 1/10\n",
            "\u001b[1m29/29\u001b[0m \u001b[32m━━━━━━━━━━━━━━━━━━━━\u001b[0m\u001b[37m\u001b[0m \u001b[1m0s\u001b[0m 2s/step - accuracy: 0.5217 - loss: 0.0782\n",
            "Epoch 1: val_loss did not improve from 0.06991\n",
            "\u001b[1m29/29\u001b[0m \u001b[32m━━━━━━━━━━━━━━━━━━━━\u001b[0m\u001b[37m\u001b[0m \u001b[1m55s\u001b[0m 2s/step - accuracy: 0.5215 - loss: 0.0782 - val_accuracy: 0.4300 - val_loss: 0.0886\n",
            "Epoch 2/10\n",
            "\u001b[1m29/29\u001b[0m \u001b[32m━━━━━━━━━━━━━━━━━━━━\u001b[0m\u001b[37m\u001b[0m \u001b[1m0s\u001b[0m 2s/step - accuracy: 0.5458 - loss: 0.0764\n",
            "Epoch 2: val_loss did not improve from 0.06991\n",
            "\u001b[1m29/29\u001b[0m \u001b[32m━━━━━━━━━━━━━━━━━━━━\u001b[0m\u001b[37m\u001b[0m \u001b[1m83s\u001b[0m 2s/step - accuracy: 0.5454 - loss: 0.0764 - val_accuracy: 0.4500 - val_loss: 0.0878\n",
            "Epoch 3/10\n",
            "\u001b[1m29/29\u001b[0m \u001b[32m━━━━━━━━━━━━━━━━━━━━\u001b[0m\u001b[37m\u001b[0m \u001b[1m0s\u001b[0m 2s/step - accuracy: 0.5273 - loss: 0.0731\n",
            "Epoch 3: val_loss did not improve from 0.06991\n",
            "\u001b[1m29/29\u001b[0m \u001b[32m━━━━━━━━━━━━━━━━━━━━\u001b[0m\u001b[37m\u001b[0m \u001b[1m80s\u001b[0m 2s/step - accuracy: 0.5272 - loss: 0.0732 - val_accuracy: 0.4400 - val_loss: 0.0875\n",
            "Epoch 4/10\n",
            "\u001b[1m29/29\u001b[0m \u001b[32m━━━━━━━━━━━━━━━━━━━━\u001b[0m\u001b[37m\u001b[0m \u001b[1m0s\u001b[0m 2s/step - accuracy: 0.5577 - loss: 0.0732\n",
            "Epoch 4: val_loss did not improve from 0.06991\n",
            "\u001b[1m29/29\u001b[0m \u001b[32m━━━━━━━━━━━━━━━━━━━━\u001b[0m\u001b[37m\u001b[0m \u001b[1m57s\u001b[0m 2s/step - accuracy: 0.5571 - loss: 0.0732 - val_accuracy: 0.4400 - val_loss: 0.0869\n",
            "Epoch 5/10\n",
            "\u001b[1m29/29\u001b[0m \u001b[32m━━━━━━━━━━━━━━━━━━━━\u001b[0m\u001b[37m\u001b[0m \u001b[1m0s\u001b[0m 2s/step - accuracy: 0.5810 - loss: 0.0681\n",
            "Epoch 5: val_loss did not improve from 0.06991\n",
            "\u001b[1m29/29\u001b[0m \u001b[32m━━━━━━━━━━━━━━━━━━━━\u001b[0m\u001b[37m\u001b[0m \u001b[1m83s\u001b[0m 2s/step - accuracy: 0.5797 - loss: 0.0682 - val_accuracy: 0.4500 - val_loss: 0.0872\n",
            "Epoch 6/10\n",
            "\u001b[1m29/29\u001b[0m \u001b[32m━━━━━━━━━━━━━━━━━━━━\u001b[0m\u001b[37m\u001b[0m \u001b[1m0s\u001b[0m 2s/step - accuracy: 0.5311 - loss: 0.0726\n",
            "Epoch 6: val_loss did not improve from 0.06991\n",
            "\u001b[1m29/29\u001b[0m \u001b[32m━━━━━━━━━━━━━━━━━━━━\u001b[0m\u001b[37m\u001b[0m \u001b[1m82s\u001b[0m 2s/step - accuracy: 0.5314 - loss: 0.0725 - val_accuracy: 0.4300 - val_loss: 0.0891\n",
            "Epoch 7/10\n",
            "\u001b[1m29/29\u001b[0m \u001b[32m━━━━━━━━━━━━━━━━━━━━\u001b[0m\u001b[37m\u001b[0m \u001b[1m0s\u001b[0m 2s/step - accuracy: 0.5608 - loss: 0.0728\n",
            "Epoch 7: val_loss did not improve from 0.06991\n",
            "\u001b[1m29/29\u001b[0m \u001b[32m━━━━━━━━━━━━━━━━━━━━\u001b[0m\u001b[37m\u001b[0m \u001b[1m81s\u001b[0m 2s/step - accuracy: 0.5599 - loss: 0.0728 - val_accuracy: 0.4400 - val_loss: 0.0871\n",
            "\n",
            "📦 Loading chunk 20/22\n",
            "📊 Training on chunk 20 - Shape: (900, 5000, 12), Labels: (900, 44)\n",
            "Epoch 1/10\n",
            "\u001b[1m29/29\u001b[0m \u001b[32m━━━━━━━━━━━━━━━━━━━━\u001b[0m\u001b[37m\u001b[0m \u001b[1m0s\u001b[0m 2s/step - accuracy: 0.5615 - loss: 0.0740\n",
            "Epoch 1: val_loss improved from 0.06991 to 0.06867, saving model to /content/drive/MyDrive/PTB_model/classifier_500Hz.keras\n",
            "\u001b[1m29/29\u001b[0m \u001b[32m━━━━━━━━━━━━━━━━━━━━\u001b[0m\u001b[37m\u001b[0m \u001b[1m65s\u001b[0m 2s/step - accuracy: 0.5612 - loss: 0.0741 - val_accuracy: 0.5800 - val_loss: 0.0687\n",
            "Epoch 2/10\n",
            "\u001b[1m29/29\u001b[0m \u001b[32m━━━━━━━━━━━━━━━━━━━━\u001b[0m\u001b[37m\u001b[0m \u001b[1m0s\u001b[0m 2s/step - accuracy: 0.5320 - loss: 0.0734\n",
            "Epoch 2: val_loss did not improve from 0.06867\n",
            "\u001b[1m29/29\u001b[0m \u001b[32m━━━━━━━━━━━━━━━━━━━━\u001b[0m\u001b[37m\u001b[0m \u001b[1m75s\u001b[0m 2s/step - accuracy: 0.5324 - loss: 0.0733 - val_accuracy: 0.5300 - val_loss: 0.0701\n",
            "Epoch 3/10\n",
            "\u001b[1m29/29\u001b[0m \u001b[32m━━━━━━━━━━━━━━━━━━━━\u001b[0m\u001b[37m\u001b[0m \u001b[1m0s\u001b[0m 2s/step - accuracy: 0.5692 - loss: 0.0681\n",
            "Epoch 3: val_loss improved from 0.06867 to 0.06706, saving model to /content/drive/MyDrive/PTB_model/classifier_500Hz.keras\n",
            "\u001b[1m29/29\u001b[0m \u001b[32m━━━━━━━━━━━━━━━━━━━━\u001b[0m\u001b[37m\u001b[0m \u001b[1m83s\u001b[0m 2s/step - accuracy: 0.5684 - loss: 0.0682 - val_accuracy: 0.5600 - val_loss: 0.0671\n",
            "Epoch 4/10\n",
            "\u001b[1m29/29\u001b[0m \u001b[32m━━━━━━━━━━━━━━━━━━━━\u001b[0m\u001b[37m\u001b[0m \u001b[1m0s\u001b[0m 2s/step - accuracy: 0.5671 - loss: 0.0679\n",
            "Epoch 4: val_loss did not improve from 0.06706\n",
            "\u001b[1m29/29\u001b[0m \u001b[32m━━━━━━━━━━━━━━━━━━━━\u001b[0m\u001b[37m\u001b[0m \u001b[1m60s\u001b[0m 2s/step - accuracy: 0.5670 - loss: 0.0679 - val_accuracy: 0.5600 - val_loss: 0.0689\n",
            "Epoch 5/10\n",
            "\u001b[1m29/29\u001b[0m \u001b[32m━━━━━━━━━━━━━━━━━━━━\u001b[0m\u001b[37m\u001b[0m \u001b[1m0s\u001b[0m 2s/step - accuracy: 0.6036 - loss: 0.0675\n",
            "Epoch 5: val_loss improved from 0.06706 to 0.06689, saving model to /content/drive/MyDrive/PTB_model/classifier_500Hz.keras\n",
            "\u001b[1m29/29\u001b[0m \u001b[32m━━━━━━━━━━━━━━━━━━━━\u001b[0m\u001b[37m\u001b[0m \u001b[1m78s\u001b[0m 2s/step - accuracy: 0.6030 - loss: 0.0675 - val_accuracy: 0.6000 - val_loss: 0.0669\n",
            "Epoch 6/10\n",
            "\u001b[1m29/29\u001b[0m \u001b[32m━━━━━━━━━━━━━━━━━━━━\u001b[0m\u001b[37m\u001b[0m \u001b[1m0s\u001b[0m 2s/step - accuracy: 0.5547 - loss: 0.0684\n",
            "Epoch 6: val_loss did not improve from 0.06689\n",
            "\u001b[1m29/29\u001b[0m \u001b[32m━━━━━━━━━━━━━━━━━━━━\u001b[0m\u001b[37m\u001b[0m \u001b[1m57s\u001b[0m 2s/step - accuracy: 0.5551 - loss: 0.0684 - val_accuracy: 0.5700 - val_loss: 0.0680\n",
            "Epoch 7/10\n",
            "\u001b[1m29/29\u001b[0m \u001b[32m━━━━━━━━━━━━━━━━━━━━\u001b[0m\u001b[37m\u001b[0m \u001b[1m0s\u001b[0m 2s/step - accuracy: 0.5647 - loss: 0.0668\n",
            "Epoch 7: val_loss did not improve from 0.06689\n",
            "\u001b[1m29/29\u001b[0m \u001b[32m━━━━━━━━━━━━━━━━━━━━\u001b[0m\u001b[37m\u001b[0m \u001b[1m57s\u001b[0m 2s/step - accuracy: 0.5646 - loss: 0.0668 - val_accuracy: 0.5700 - val_loss: 0.0682\n",
            "Epoch 8/10\n",
            "\u001b[1m29/29\u001b[0m \u001b[32m━━━━━━━━━━━━━━━━━━━━\u001b[0m\u001b[37m\u001b[0m \u001b[1m0s\u001b[0m 2s/step - accuracy: 0.5999 - loss: 0.0663\n",
            "Epoch 8: val_loss did not improve from 0.06689\n",
            "\u001b[1m29/29\u001b[0m \u001b[32m━━━━━━━━━━━━━━━━━━━━\u001b[0m\u001b[37m\u001b[0m \u001b[1m84s\u001b[0m 2s/step - accuracy: 0.5995 - loss: 0.0663 - val_accuracy: 0.5900 - val_loss: 0.0684\n",
            "\n",
            "📦 Loading chunk 21/22\n",
            "📊 Training on chunk 21 - Shape: (900, 5000, 12), Labels: (900, 44)\n",
            "Epoch 1/10\n",
            "\u001b[1m29/29\u001b[0m \u001b[32m━━━━━━━━━━━━━━━━━━━━\u001b[0m\u001b[37m\u001b[0m \u001b[1m0s\u001b[0m 2s/step - accuracy: 0.5064 - loss: 0.0788\n",
            "Epoch 1: val_loss did not improve from 0.06689\n",
            "\u001b[1m29/29\u001b[0m \u001b[32m━━━━━━━━━━━━━━━━━━━━\u001b[0m\u001b[37m\u001b[0m \u001b[1m58s\u001b[0m 2s/step - accuracy: 0.5066 - loss: 0.0788 - val_accuracy: 0.5200 - val_loss: 0.0714\n",
            "Epoch 2/10\n",
            "\u001b[1m29/29\u001b[0m \u001b[32m━━━━━━━━━━━━━━━━━━━━\u001b[0m\u001b[37m\u001b[0m \u001b[1m0s\u001b[0m 2s/step - accuracy: 0.5015 - loss: 0.0827\n",
            "Epoch 2: val_loss did not improve from 0.06689\n",
            "\u001b[1m29/29\u001b[0m \u001b[32m━━━━━━━━━━━━━━━━━━━━\u001b[0m\u001b[37m\u001b[0m \u001b[1m83s\u001b[0m 2s/step - accuracy: 0.5022 - loss: 0.0825 - val_accuracy: 0.5500 - val_loss: 0.0693\n",
            "Epoch 3/10\n",
            "\u001b[1m29/29\u001b[0m \u001b[32m━━━━━━━━━━━━━━━━━━━━\u001b[0m\u001b[37m\u001b[0m \u001b[1m0s\u001b[0m 2s/step - accuracy: 0.5165 - loss: 0.0787\n",
            "Epoch 3: val_loss did not improve from 0.06689\n",
            "\u001b[1m29/29\u001b[0m \u001b[32m━━━━━━━━━━━━━━━━━━━━\u001b[0m\u001b[37m\u001b[0m \u001b[1m59s\u001b[0m 2s/step - accuracy: 0.5171 - loss: 0.0786 - val_accuracy: 0.5500 - val_loss: 0.0698\n",
            "Epoch 4/10\n",
            "\u001b[1m29/29\u001b[0m \u001b[32m━━━━━━━━━━━━━━━━━━━━\u001b[0m\u001b[37m\u001b[0m \u001b[1m0s\u001b[0m 2s/step - accuracy: 0.5508 - loss: 0.0753\n",
            "Epoch 4: val_loss did not improve from 0.06689\n",
            "\u001b[1m29/29\u001b[0m \u001b[32m━━━━━━━━━━━━━━━━━━━━\u001b[0m\u001b[37m\u001b[0m \u001b[1m81s\u001b[0m 2s/step - accuracy: 0.5503 - loss: 0.0753 - val_accuracy: 0.5400 - val_loss: 0.0732\n",
            "Epoch 5/10\n",
            "\u001b[1m29/29\u001b[0m \u001b[32m━━━━━━━━━━━━━━━━━━━━\u001b[0m\u001b[37m\u001b[0m \u001b[1m0s\u001b[0m 2s/step - accuracy: 0.5574 - loss: 0.0740\n",
            "Epoch 5: val_loss did not improve from 0.06689\n",
            "\u001b[1m29/29\u001b[0m \u001b[32m━━━━━━━━━━━━━━━━━━━━\u001b[0m\u001b[37m\u001b[0m \u001b[1m56s\u001b[0m 2s/step - accuracy: 0.5569 - loss: 0.0740 - val_accuracy: 0.5200 - val_loss: 0.0716\n",
            "\n",
            "📦 Loading chunk 22/22\n",
            "📊 Training on chunk 22 - Shape: (900, 5000, 12), Labels: (900, 44)\n",
            "Epoch 1/10\n",
            "\u001b[1m29/29\u001b[0m \u001b[32m━━━━━━━━━━━━━━━━━━━━\u001b[0m\u001b[37m\u001b[0m \u001b[1m0s\u001b[0m 2s/step - accuracy: 0.5484 - loss: 0.0710\n",
            "Epoch 1: val_loss did not improve from 0.06689\n",
            "\u001b[1m29/29\u001b[0m \u001b[32m━━━━━━━━━━━━━━━━━━━━\u001b[0m\u001b[37m\u001b[0m \u001b[1m59s\u001b[0m 2s/step - accuracy: 0.5483 - loss: 0.0710 - val_accuracy: 0.5900 - val_loss: 0.0676\n",
            "Epoch 2/10\n",
            "\u001b[1m29/29\u001b[0m \u001b[32m━━━━━━━━━━━━━━━━━━━━\u001b[0m\u001b[37m\u001b[0m \u001b[1m0s\u001b[0m 2s/step - accuracy: 0.5506 - loss: 0.0701\n",
            "Epoch 2: val_loss did not improve from 0.06689\n",
            "\u001b[1m29/29\u001b[0m \u001b[32m━━━━━━━━━━━━━━━━━━━━\u001b[0m\u001b[37m\u001b[0m \u001b[1m81s\u001b[0m 2s/step - accuracy: 0.5507 - loss: 0.0701 - val_accuracy: 0.5700 - val_loss: 0.0702\n",
            "Epoch 3/10\n",
            "\u001b[1m29/29\u001b[0m \u001b[32m━━━━━━━━━━━━━━━━━━━━\u001b[0m\u001b[37m\u001b[0m \u001b[1m0s\u001b[0m 2s/step - accuracy: 0.5611 - loss: 0.0684\n",
            "Epoch 3: val_loss did not improve from 0.06689\n",
            "\u001b[1m29/29\u001b[0m \u001b[32m━━━━━━━━━━━━━━━━━━━━\u001b[0m\u001b[37m\u001b[0m \u001b[1m59s\u001b[0m 2s/step - accuracy: 0.5617 - loss: 0.0684 - val_accuracy: 0.5900 - val_loss: 0.0674\n",
            "Epoch 4/10\n",
            "\u001b[1m29/29\u001b[0m \u001b[32m━━━━━━━━━━━━━━━━━━━━\u001b[0m\u001b[37m\u001b[0m \u001b[1m0s\u001b[0m 2s/step - accuracy: 0.5817 - loss: 0.0665\n",
            "Epoch 4: val_loss did not improve from 0.06689\n",
            "\u001b[1m29/29\u001b[0m \u001b[32m━━━━━━━━━━━━━━━━━━━━\u001b[0m\u001b[37m\u001b[0m \u001b[1m81s\u001b[0m 2s/step - accuracy: 0.5813 - loss: 0.0666 - val_accuracy: 0.5900 - val_loss: 0.0684\n",
            "Epoch 5/10\n",
            "\u001b[1m29/29\u001b[0m \u001b[32m━━━━━━━━━━━━━━━━━━━━\u001b[0m\u001b[37m\u001b[0m \u001b[1m0s\u001b[0m 2s/step - accuracy: 0.5557 - loss: 0.0676\n",
            "Epoch 5: val_loss did not improve from 0.06689\n",
            "\u001b[1m29/29\u001b[0m \u001b[32m━━━━━━━━━━━━━━━━━━━━\u001b[0m\u001b[37m\u001b[0m \u001b[1m67s\u001b[0m 2s/step - accuracy: 0.5559 - loss: 0.0676 - val_accuracy: 0.6100 - val_loss: 0.0678\n",
            "Epoch 6/10\n",
            "\u001b[1m29/29\u001b[0m \u001b[32m━━━━━━━━━━━━━━━━━━━━\u001b[0m\u001b[37m\u001b[0m \u001b[1m0s\u001b[0m 2s/step - accuracy: 0.5810 - loss: 0.0630\n",
            "Epoch 6: val_loss did not improve from 0.06689\n",
            "\u001b[1m29/29\u001b[0m \u001b[32m━━━━━━━━━━━━━━━━━━━━\u001b[0m\u001b[37m\u001b[0m \u001b[1m73s\u001b[0m 2s/step - accuracy: 0.5808 - loss: 0.0631 - val_accuracy: 0.5900 - val_loss: 0.0691\n"
          ]
        }
      ]
    },
    {
      "cell_type": "code",
      "source": [
        "import numpy as np\n",
        "from sklearn.metrics import classification_report, roc_auc_score\n",
        "from tensorflow.keras.models import load_model"
      ],
      "metadata": {
        "id": "c_HWWtjYkDEi"
      },
      "execution_count": null,
      "outputs": []
    },
    {
      "cell_type": "code",
      "source": [
        "# Load trained model\n",
        "model = load_model(\"/content/drive/MyDrive/PTB_model/classifier_500Hz.keras\")\n"
      ],
      "metadata": {
        "id": "zULqfVxWkDBK"
      },
      "execution_count": null,
      "outputs": []
    },
    {
      "cell_type": "code",
      "source": [
        "import os\n",
        "\n",
        "file_x = \"/content/drive/MyDrive/PTB_classifier_chunks/X_classifier_500Hz_chunk_21.npy\"\n",
        "file_y = \"/content/drive/MyDrive/PTB_classifier_chunks/Y_classifier_500Hz_chunk_21.npy\"\n",
        "\n",
        "print(\"X exists:\", os.path.exists(file_x))\n",
        "print(\"Y exists:\", os.path.exists(file_y))\n"
      ],
      "metadata": {
        "colab": {
          "base_uri": "https://localhost:8080/"
        },
        "id": "D-oQnAGSpsKx",
        "outputId": "3b4e8eda-c7d0-4f7e-cb28-acafe9983379"
      },
      "execution_count": null,
      "outputs": [
        {
          "output_type": "stream",
          "name": "stdout",
          "text": [
            "X exists: True\n",
            "Y exists: True\n"
          ]
        }
      ]
    },
    {
      "cell_type": "code",
      "source": [
        "# Predict probabilities\n",
        "y_pred_prob = model.predict(X_val, batch_size=64)\n",
        "\n",
        "# Convert probabilities to binary labels (multi-label classification)\n",
        "y_pred = (y_pred_prob > 0.5).astype(int)\n"
      ],
      "metadata": {
        "colab": {
          "base_uri": "https://localhost:8080/"
        },
        "id": "qy78OxXPpsHP",
        "outputId": "8499b914-2047-4c55-9245-2caed4830060"
      },
      "execution_count": null,
      "outputs": [
        {
          "output_type": "stream",
          "name": "stdout",
          "text": [
            "\u001b[1m2/2\u001b[0m \u001b[32m━━━━━━━━━━━━━━━━━━━━\u001b[0m\u001b[37m\u001b[0m \u001b[1m5s\u001b[0m 1s/step   \n"
          ]
        }
      ]
    },
    {
      "cell_type": "code",
      "source": [
        "from sklearn.metrics import accuracy_score, f1_score, classification_report\n",
        "\n",
        "# Compute micro and macro F1-score\n",
        "print(\"F1 Score (micro):\", f1_score(Y_val, y_pred, average='micro'))\n",
        "print(\"F1 Score (macro):\", f1_score(Y_val, y_pred, average='macro'))\n",
        "\n",
        "# Optional: Show full classification report\n",
        "print(classification_report(Y_val, y_pred, zero_division=0))\n"
      ],
      "metadata": {
        "colab": {
          "base_uri": "https://localhost:8080/"
        },
        "id": "1QaTbhzBpsEh",
        "outputId": "685ae3db-9268-4464-dd64-61682d51bf73"
      },
      "execution_count": null,
      "outputs": [
        {
          "output_type": "stream",
          "name": "stdout",
          "text": [
            "F1 Score (micro): 0.5412844036697247\n",
            "F1 Score (macro): 0.10861486289207965\n",
            "              precision    recall  f1-score   support\n",
            "\n",
            "           0       0.00      0.00      0.00         4\n",
            "           1       0.00      0.00      0.00         1\n",
            "           2       0.00      0.00      0.00         0\n",
            "           3       0.00      0.00      0.00         1\n",
            "           4       0.00      0.00      0.00         0\n",
            "           5       0.00      0.00      0.00         0\n",
            "           6       0.80      0.33      0.47        12\n",
            "           7       1.00      0.40      0.57         5\n",
            "           8       0.50      0.67      0.57         3\n",
            "           9       0.00      0.00      0.00         1\n",
            "          10       0.00      0.00      0.00         1\n",
            "          11       0.00      0.00      0.00         0\n",
            "          12       0.00      0.00      0.00         3\n",
            "          13       0.43      0.25      0.32        12\n",
            "          14       0.00      0.00      0.00         1\n",
            "          15       0.00      0.00      0.00         1\n",
            "          16       0.00      0.00      0.00         1\n",
            "          17       0.00      0.00      0.00         0\n",
            "          18       0.00      0.00      0.00         0\n",
            "          19       0.00      0.00      0.00         0\n",
            "          20       0.00      0.00      0.00         0\n",
            "          21       1.00      0.25      0.40         4\n",
            "          22       0.00      0.00      0.00         5\n",
            "          23       0.00      0.00      0.00         0\n",
            "          24       0.00      0.00      0.00         0\n",
            "          25       0.00      0.00      0.00         0\n",
            "          26       0.00      0.00      0.00         2\n",
            "          27       0.00      0.00      0.00         1\n",
            "          28       0.60      0.50      0.55         6\n",
            "          29       0.00      0.00      0.00         0\n",
            "          30       0.75      0.38      0.50         8\n",
            "          31       0.00      0.00      0.00         4\n",
            "          32       0.00      0.00      0.00         0\n",
            "          33       0.00      0.00      0.00         1\n",
            "          34       0.00      0.00      0.00         0\n",
            "          35       0.45      0.62      0.53         8\n",
            "          36       0.00      0.00      0.00         7\n",
            "          37       0.95      0.82      0.88        44\n",
            "          38       0.00      0.00      0.00         3\n",
            "          39       0.00      0.00      0.00         0\n",
            "          40       0.00      0.00      0.00         0\n",
            "          41       0.00      0.00      0.00         1\n",
            "          42       0.00      0.00      0.00         0\n",
            "          43       0.00      0.00      0.00         1\n",
            "\n",
            "   micro avg       0.77      0.42      0.54       141\n",
            "   macro avg       0.15      0.10      0.11       141\n",
            "weighted avg       0.57      0.42      0.47       141\n",
            " samples avg       0.52      0.47      0.49       141\n",
            "\n"
          ]
        },
        {
          "output_type": "stream",
          "name": "stderr",
          "text": [
            "/usr/local/lib/python3.11/dist-packages/sklearn/metrics/_classification.py:1565: UndefinedMetricWarning: F-score is ill-defined and being set to 0.0 in labels with no true nor predicted samples. Use `zero_division` parameter to control this behavior.\n",
            "  _warn_prf(average, modifier, f\"{metric.capitalize()} is\", len(result))\n"
          ]
        }
      ]
    },
    {
      "cell_type": "code",
      "source": [
        "from sklearn.metrics import multilabel_confusion_matrix\n",
        "import matplotlib.pyplot as plt\n",
        "import seaborn as sns\n",
        "\n",
        "# Get confusion matrices for all 20 classes\n",
        "conf_matrices = multilabel_confusion_matrix(Y_val, y_pred)\n",
        "\n",
        "# Plot for first label (index 0)\n",
        "label_index = 0  # change to view other classes\n",
        "\n",
        "sns.heatmap(conf_matrices[label_index], annot=True, fmt='d', cmap='Blues')\n",
        "plt.title(f\"Confusion Matrix for Class {label_index}\")\n",
        "plt.xlabel(\"Predicted\")\n",
        "plt.ylabel(\"Actual\")\n",
        "plt.show()\n"
      ],
      "metadata": {
        "colab": {
          "base_uri": "https://localhost:8080/",
          "height": 472
        },
        "id": "WVU1wPXmNIgD",
        "outputId": "075f75d3-d9ae-436b-cd42-a698c8adebd5"
      },
      "execution_count": null,
      "outputs": [
        {
          "output_type": "display_data",
          "data": {
            "text/plain": [
              "<Figure size 640x480 with 2 Axes>"
            ],
            "image/png": "[encoded data removed]"
          },
          "metadata": {}
        }
      ]
    },
    {
      "cell_type": "code",
      "source": [
        "from sklearn.metrics import accuracy_score\n",
        "\n",
        "# Flatten both arrays (works for multilabel as well)\n",
        "overall_accuracy = accuracy_score(Y_val.flatten(), y_pred.flatten())\n",
        "print(\"🔹 Overall Accuracy: {:.4f}\".format(overall_accuracy))\n"
      ],
      "metadata": {
        "colab": {
          "base_uri": "https://localhost:8080/"
        },
        "id": "jTZkSA6wNIdF",
        "outputId": "159f1b08-dc96-44fd-a895-d4edde513668"
      },
      "execution_count": null,
      "outputs": [
        {
          "output_type": "stream",
          "name": "stdout",
          "text": [
            "🔹 Overall Accuracy: 0.9773\n"
          ]
        }
      ]
    },
    {
      "cell_type": "code",
      "source": [
        "from sklearn.metrics import precision_score, recall_score, f1_score\n",
        "\n",
        "# Assuming: Y_val = true labels (binary, shape: [n_samples, n_classes])\n",
        "#           y_pred = predicted labels (binary, shape: [n_samples, n_classes])\n",
        "\n",
        "# Calculate overall metrics (macro and micro)\n",
        "precision_micro = precision_score(Y_val, y_pred, average='micro')\n",
        "recall_micro = recall_score(Y_val, y_pred, average='micro')\n",
        "f1_micro = f1_score(Y_val, y_pred, average='micro')\n",
        "\n",
        "precision_macro = precision_score(Y_val, y_pred, average='macro')\n",
        "recall_macro = recall_score(Y_val, y_pred, average='macro')\n",
        "f1_macro = f1_score(Y_val, y_pred, average='macro')\n",
        "\n",
        "# Print results\n",
        "print(f\"Overall Precision (Micro): {precision_micro:.4f}\")\n",
        "print(f\"Overall Recall    (Micro): {recall_micro:.4f}\")\n",
        "print(f\"Overall F1 Score  (Micro): {f1_micro:.4f}\")\n",
        "print()\n",
        "print(f\"Overall Precision (Macro): {precision_macro:.4f}\")\n",
        "print(f\"Overall Recall    (Macro): {recall_macro:.4f}\")\n",
        "print(f\"Overall F1 Score  (Macro): {f1_macro:.4f}\")\n"
      ],
      "metadata": {
        "colab": {
          "base_uri": "https://localhost:8080/"
        },
        "id": "6Jy0_Dn-ft0I",
        "outputId": "a701684f-09f8-4493-fd34-857f5374d398"
      },
      "execution_count": null,
      "outputs": [
        {
          "output_type": "stream",
          "name": "stdout",
          "text": [
            "Overall Precision (Micro): 0.7662\n",
            "Overall Recall    (Micro): 0.4184\n",
            "Overall F1 Score  (Micro): 0.5413\n",
            "\n",
            "Overall Precision (Macro): 0.1473\n",
            "Overall Recall    (Macro): 0.0959\n",
            "Overall F1 Score  (Macro): 0.1086\n"
          ]
        },
        {
          "output_type": "stream",
          "name": "stderr",
          "text": [
            "/usr/local/lib/python3.11/dist-packages/sklearn/metrics/_classification.py:1565: UndefinedMetricWarning: Precision is ill-defined and being set to 0.0 in labels with no predicted samples. Use `zero_division` parameter to control this behavior.\n",
            "  _warn_prf(average, modifier, f\"{metric.capitalize()} is\", len(result))\n",
            "/usr/local/lib/python3.11/dist-packages/sklearn/metrics/_classification.py:1565: UndefinedMetricWarning: Recall is ill-defined and being set to 0.0 in labels with no true samples. Use `zero_division` parameter to control this behavior.\n",
            "  _warn_prf(average, modifier, f\"{metric.capitalize()} is\", len(result))\n",
            "/usr/local/lib/python3.11/dist-packages/sklearn/metrics/_classification.py:1565: UndefinedMetricWarning: F-score is ill-defined and being set to 0.0 in labels with no true nor predicted samples. Use `zero_division` parameter to control this behavior.\n",
            "  _warn_prf(average, modifier, f\"{metric.capitalize()} is\", len(result))\n"
          ]
        }
      ]
    },
    {
      "cell_type": "code",
      "source": [],
      "metadata": {
        "id": "0itjGKhyf9pT"
      },
      "execution_count": null,
      "outputs": []
    }
  ],
  "metadata": {
    "colab": {
      "provenance": [],
      "mount_file_id": "1StmdJju8FaSmHJXdlorL2uXJYmlpucir",
      "authorship_tag": "ABX9TyMg0bFrkSR424JoRKERcRfQ",
      "include_colab_link": true
    },
    "kernelspec": {
      "display_name": "Python 3",
      "name": "python3"
    },
    "language_info": {
      "name": "python"
    }
  },
  "nbformat": 4,
  "nbformat_minor": 0
}