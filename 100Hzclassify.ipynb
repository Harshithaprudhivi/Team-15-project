{
  "nbformat": 4,
  "nbformat_minor": 0,
  "metadata": {
    "colab": {
      "provenance": [],
      "authorship_tag": "ABX9TyOdxMbeLPPCA34zw4Dk93jn",
      "include_colab_link": true
    },
    "kernelspec": {
      "name": "python3",
      "display_name": "Python 3"
    },
    "language_info": {
      "name": "python"
    }
  },
  "cells": [
    {
      "cell_type": "markdown",
      "metadata": {
        "id": "view-in-github",
        "colab_type": "text"
      },
      "source": [
        "<a href=\"https://colab.research.google.com/github/Harshithaprudhivi/Team-15-project/blob/main/100Hzclassify.ipynb\" target=\"_parent\"><img src=\"https://colab.research.google.com/assets/colab-badge.svg\" alt=\"Open In Colab\"/></a>"
      ]
    },
    {
      "cell_type": "code",
      "source": [
        "from google.colab import drive\n",
        "from pathlib import Path\n",
        "drive.mount('/content/drive/')"
      ],
      "metadata": {
        "colab": {
          "base_uri": "https://localhost:8080/"
        },
        "id": "-kncsqrdArVD",
        "outputId": "e77d0dd5-78c4-413e-c75f-a08c54833ea9"
      },
      "execution_count": null,
      "outputs": [
        {
          "output_type": "stream",
          "name": "stdout",
          "text": [
            "Mounted at /content/drive/\n"
          ]
        }
      ]
    },
    {
      "cell_type": "code",
      "source": [
        "# ✅ ECG Classification Pipeline\n",
        "import numpy as np\n",
        "import pandas as pd\n",
        "from sklearn.model_selection import train_test_split\n",
        "from sklearn.preprocessing import LabelBinarizer\n",
        "from tensorflow.keras.models import Sequential\n",
        "from tensorflow.keras.layers import Conv1D, MaxPooling1D, Flatten, Dense, Dropout, BatchNormalization\n",
        "from tensorflow.keras.callbacks import ModelCheckpoint"
      ],
      "metadata": {
        "id": "4X9jeNq4iWhd"
      },
      "execution_count": null,
      "outputs": []
    },
    {
      "cell_type": "code",
      "source": [
        "# STEP 1: Load ECG signal data (12-lead, 100Hz)\n",
        "X = np.load(\"/content/drive/MyDrive/PTB_processed_batches/Y_100Hz.npy\", mmap_mode='r')\n",
        "print(\"Loaded X shape:\", X.shape)  # Should be (21847, 1000, 12)"
      ],
      "metadata": {
        "colab": {
          "base_uri": "https://localhost:8080/"
        },
        "id": "snG9lWGMiysw",
        "outputId": "ca44e7d8-a3a1-4353-adc1-e8e7c2ef8bd4"
      },
      "execution_count": null,
      "outputs": [
        {
          "output_type": "stream",
          "name": "stdout",
          "text": [
            "Loaded X shape: (21847, 1000, 12)\n"
          ]
        }
      ]
    },
    {
      "cell_type": "code",
      "source": [
        "# Step 2: Load metadata\n",
        "df = pd.read_csv(\"/content/drive/MyDrive/PTB-data/ptbxl_database.csv\")"
      ],
      "metadata": {
        "id": "PupMPdt6i18K"
      },
      "execution_count": null,
      "outputs": []
    },
    {
      "cell_type": "code",
      "source": [
        "# ✅ Step 3: Sort metadata to match X\n",
        "df = df.sort_values(\"filename_lr\").reset_index(drop=True)\n",
        "df[\"scp_codes\"] = df[\"scp_codes\"].apply(eval)\n",
        "df[\"diagnostic_codes\"] = df[\"scp_codes\"].apply(lambda d: [k for k in d.keys()])\n"
      ],
      "metadata": {
        "id": "8PwHSZp7UGxl"
      },
      "execution_count": null,
      "outputs": []
    },
    {
      "cell_type": "code",
      "source": [
        "# ✅ Step 4: Use top 20 diagnostic classes\n",
        "top_20_labels = [\n",
        "    'SR', 'NORM', 'ABQRS', 'IMI', 'ASMI', 'LVH', 'NDT', 'LAFB', 'AFIB', 'ISC_',\n",
        "    'PVC', 'IRBBB', 'STD_', 'VCLVH', 'STACH', '1AVB', 'IVCD', 'SARRH', 'NST_', 'ISCAL'\n",
        "]\n",
        "df[\"filtered_labels\"] = df[\"diagnostic_codes\"].apply(lambda codes: [c for c in codes if c in top_20_labels])\n",
        "df = df[df[\"filtered_labels\"].str.len() > 0].reset_index(drop=True)\n"
      ],
      "metadata": {
        "id": "zrRJdigSUG0V"
      },
      "execution_count": null,
      "outputs": []
    },
    {
      "cell_type": "code",
      "source": [
        "# ✅ Step 5: Match ECG data to filtered labels\n",
        "X = X[:len(df)]\n",
        "print(len(X))"
      ],
      "metadata": {
        "colab": {
          "base_uri": "https://localhost:8080/"
        },
        "id": "gO_KFhIyUG3K",
        "outputId": "a8e0aa99-1105-452e-ec97-bb02c387a5e6"
      },
      "execution_count": null,
      "outputs": [
        {
          "output_type": "stream",
          "name": "stdout",
          "text": [
            "21417\n"
          ]
        }
      ]
    },
    {
      "cell_type": "code",
      "source": [
        "# ✅ Step 6: One-hot encode using top 20 labels\n",
        "mlb = MultiLabelBinarizer(classes=top_20_labels)\n",
        "Y = mlb.fit_transform(df[\"filtered_labels\"])\n"
      ],
      "metadata": {
        "id": "mGW15vRUUG5j"
      },
      "execution_count": null,
      "outputs": []
    },
    {
      "cell_type": "code",
      "source": [
        "# ✅ Step 7: Train-test split\n",
        "X_train, X_val, Y_train, Y_val = train_test_split(X, Y, test_size=0.2, random_state=42)\n"
      ],
      "metadata": {
        "id": "MslsRurhUG8W"
      },
      "execution_count": null,
      "outputs": []
    },
    {
      "cell_type": "code",
      "source": [
        "# ✅ Step 8: Define classifier model\n",
        "model = Sequential([\n",
        "    Conv1D(32, 5, activation='relu', input_shape=(1000, 12)),\n",
        "    MaxPooling1D(2),\n",
        "    Conv1D(64, 5, activation='relu'),\n",
        "    MaxPooling1D(2),\n",
        "    Flatten(),\n",
        "    Dense(128, activation='relu'),\n",
        "    Dropout(0.3),\n",
        "    Dense(len(top_20_labels), activation='sigmoid')  # Multi-label output\n",
        "])\n",
        "\n",
        "model.compile(optimizer='adam', loss='binary_crossentropy', metrics=['accuracy'])\n"
      ],
      "metadata": {
        "id": "4YV816LyUG_e"
      },
      "execution_count": null,
      "outputs": []
    },
    {
      "cell_type": "code",
      "source": [
        "# ✅ Step 9: Train and save best model\n",
        "checkpoint = ModelCheckpoint(\"/content/drive/MyDrive/classifier_model_20labels_100Hz.keras\", save_best_only=True)\n",
        "\n",
        "history = model.fit(\n",
        "    X_train, Y_train,\n",
        "    epochs=30,\n",
        "    batch_size=32,\n",
        "    validation_data=(X_val, Y_val),\n",
        "    callbacks=[checkpoint]\n",
        ")\n",
        "\n",
        "print(\"🎉 Training complete. Model saved to Google Drive.\")"
      ],
      "metadata": {
        "colab": {
          "base_uri": "https://localhost:8080/"
        },
        "id": "fCxRstG5YD_9",
        "outputId": "185862c6-1b38-4afb-807f-ad8497266f8c"
      },
      "execution_count": null,
      "outputs": [
        {
          "output_type": "stream",
          "name": "stdout",
          "text": [
            "Epoch 1/30\n",
            "\u001b[1m536/536\u001b[0m \u001b[32m━━━━━━━━━━━━━━━━━━━━\u001b[0m\u001b[37m\u001b[0m \u001b[1m58s\u001b[0m 104ms/step - accuracy: 0.7484 - loss: 0.3020 - val_accuracy: 0.7773 - val_loss: 0.2735\n",
            "Epoch 2/30\n",
            "\u001b[1m536/536\u001b[0m \u001b[32m━━━━━━━━━━━━━━━━━━━━\u001b[0m\u001b[37m\u001b[0m \u001b[1m52s\u001b[0m 97ms/step - accuracy: 0.7863 - loss: 0.2754 - val_accuracy: 0.7773 - val_loss: 0.2749\n",
            "Epoch 3/30\n",
            "\u001b[1m536/536\u001b[0m \u001b[32m━━━━━━━━━━━━━━━━━━━━\u001b[0m\u001b[37m\u001b[0m \u001b[1m79s\u001b[0m 90ms/step - accuracy: 0.7847 - loss: 0.2669 - val_accuracy: 0.7773 - val_loss: 0.2772\n",
            "Epoch 4/30\n",
            "\u001b[1m536/536\u001b[0m \u001b[32m━━━━━━━━━━━━━━━━━━━━\u001b[0m\u001b[37m\u001b[0m \u001b[1m50s\u001b[0m 94ms/step - accuracy: 0.7859 - loss: 0.2545 - val_accuracy: 0.7771 - val_loss: 0.2834\n",
            "Epoch 5/30\n",
            "\u001b[1m536/536\u001b[0m \u001b[32m━━━━━━━━━━━━━━━━━━━━\u001b[0m\u001b[37m\u001b[0m \u001b[1m48s\u001b[0m 90ms/step - accuracy: 0.7816 - loss: 0.2388 - val_accuracy: 0.7731 - val_loss: 0.2966\n",
            "Epoch 6/30\n",
            "\u001b[1m536/536\u001b[0m \u001b[32m━━━━━━━━━━━━━━━━━━━━\u001b[0m\u001b[37m\u001b[0m \u001b[1m82s\u001b[0m 90ms/step - accuracy: 0.7809 - loss: 0.2099 - val_accuracy: 0.7612 - val_loss: 0.3143\n",
            "Epoch 7/30\n",
            "\u001b[1m536/536\u001b[0m \u001b[32m━━━━━━━━━━━━━━━━━━━━\u001b[0m\u001b[37m\u001b[0m \u001b[1m82s\u001b[0m 91ms/step - accuracy: 0.7631 - loss: 0.1807 - val_accuracy: 0.6788 - val_loss: 0.3448\n",
            "Epoch 8/30\n",
            "\u001b[1m536/536\u001b[0m \u001b[32m━━━━━━━━━━━━━━━━━━━━\u001b[0m\u001b[37m\u001b[0m \u001b[1m81s\u001b[0m 89ms/step - accuracy: 0.7480 - loss: 0.1509 - val_accuracy: 0.6781 - val_loss: 0.3897\n",
            "Epoch 9/30\n",
            "\u001b[1m536/536\u001b[0m \u001b[32m━━━━━━━━━━━━━━━━━━━━\u001b[0m\u001b[37m\u001b[0m \u001b[1m82s\u001b[0m 89ms/step - accuracy: 0.7142 - loss: 0.1269 - val_accuracy: 0.6254 - val_loss: 0.4465\n",
            "Epoch 10/30\n",
            "\u001b[1m536/536\u001b[0m \u001b[32m━━━━━━━━━━━━━━━━━━━━\u001b[0m\u001b[37m\u001b[0m \u001b[1m50s\u001b[0m 93ms/step - accuracy: 0.7030 - loss: 0.1067 - val_accuracy: 0.5917 - val_loss: 0.5162\n",
            "Epoch 11/30\n",
            "\u001b[1m536/536\u001b[0m \u001b[32m━━━━━━━━━━━━━━━━━━━━\u001b[0m\u001b[37m\u001b[0m \u001b[1m79s\u001b[0m 87ms/step - accuracy: 0.6886 - loss: 0.0929 - val_accuracy: 0.5871 - val_loss: 0.5591\n",
            "Epoch 12/30\n",
            "\u001b[1m536/536\u001b[0m \u001b[32m━━━━━━━━━━━━━━━━━━━━\u001b[0m\u001b[37m\u001b[0m \u001b[1m83s\u001b[0m 89ms/step - accuracy: 0.6867 - loss: 0.0815 - val_accuracy: 0.5782 - val_loss: 0.5745\n",
            "Epoch 13/30\n",
            "\u001b[1m536/536\u001b[0m \u001b[32m━━━━━━━━━━━━━━━━━━━━\u001b[0m\u001b[37m\u001b[0m \u001b[1m85s\u001b[0m 94ms/step - accuracy: 0.6864 - loss: 0.0721 - val_accuracy: 0.5915 - val_loss: 0.6421\n",
            "Epoch 14/30\n",
            "\u001b[1m536/536\u001b[0m \u001b[32m━━━━━━━━━━━━━━━━━━━━\u001b[0m\u001b[37m\u001b[0m \u001b[1m48s\u001b[0m 90ms/step - accuracy: 0.6966 - loss: 0.0661 - val_accuracy: 0.5971 - val_loss: 0.6792\n",
            "Epoch 15/30\n",
            "\u001b[1m536/536\u001b[0m \u001b[32m━━━━━━━━━━━━━━━━━━━━\u001b[0m\u001b[37m\u001b[0m \u001b[1m82s\u001b[0m 90ms/step - accuracy: 0.7022 - loss: 0.0611 - val_accuracy: 0.6153 - val_loss: 0.7219\n",
            "Epoch 16/30\n",
            "\u001b[1m536/536\u001b[0m \u001b[32m━━━━━━━━━━━━━━━━━━━━\u001b[0m\u001b[37m\u001b[0m \u001b[1m81s\u001b[0m 89ms/step - accuracy: 0.6948 - loss: 0.0602 - val_accuracy: 0.6088 - val_loss: 0.7438\n",
            "Epoch 17/30\n",
            "\u001b[1m536/536\u001b[0m \u001b[32m━━━━━━━━━━━━━━━━━━━━\u001b[0m\u001b[37m\u001b[0m \u001b[1m82s\u001b[0m 89ms/step - accuracy: 0.7005 - loss: 0.0565 - val_accuracy: 0.6069 - val_loss: 0.7907\n",
            "Epoch 18/30\n",
            "\u001b[1m536/536\u001b[0m \u001b[32m━━━━━━━━━━━━━━━━━━━━\u001b[0m\u001b[37m\u001b[0m \u001b[1m54s\u001b[0m 101ms/step - accuracy: 0.7033 - loss: 0.0542 - val_accuracy: 0.5675 - val_loss: 0.7921\n",
            "Epoch 19/30\n",
            "\u001b[1m536/536\u001b[0m \u001b[32m━━━━━━━━━━━━━━━━━━━━\u001b[0m\u001b[37m\u001b[0m \u001b[1m59s\u001b[0m 109ms/step - accuracy: 0.6991 - loss: 0.0507 - val_accuracy: 0.5850 - val_loss: 0.8209\n",
            "Epoch 20/30\n",
            "\u001b[1m536/536\u001b[0m \u001b[32m━━━━━━━━━━━━━━━━━━━━\u001b[0m\u001b[37m\u001b[0m \u001b[1m58s\u001b[0m 109ms/step - accuracy: 0.6970 - loss: 0.0507 - val_accuracy: 0.5917 - val_loss: 0.8252\n",
            "Epoch 21/30\n",
            "\u001b[1m536/536\u001b[0m \u001b[32m━━━━━━━━━━━━━━━━━━━━\u001b[0m\u001b[37m\u001b[0m \u001b[1m72s\u001b[0m 90ms/step - accuracy: 0.7040 - loss: 0.0472 - val_accuracy: 0.5950 - val_loss: 0.8983\n",
            "Epoch 22/30\n",
            "\u001b[1m536/536\u001b[0m \u001b[32m━━━━━━━━━━━━━━━━━━━━\u001b[0m\u001b[37m\u001b[0m \u001b[1m82s\u001b[0m 89ms/step - accuracy: 0.7052 - loss: 0.0477 - val_accuracy: 0.5675 - val_loss: 0.8726\n",
            "Epoch 23/30\n",
            "\u001b[1m536/536\u001b[0m \u001b[32m━━━━━━━━━━━━━━━━━━━━\u001b[0m\u001b[37m\u001b[0m \u001b[1m82s\u001b[0m 89ms/step - accuracy: 0.7111 - loss: 0.0453 - val_accuracy: 0.6167 - val_loss: 0.9117\n",
            "Epoch 24/30\n",
            "\u001b[1m536/536\u001b[0m \u001b[32m━━━━━━━━━━━━━━━━━━━━\u001b[0m\u001b[37m\u001b[0m \u001b[1m87s\u001b[0m 99ms/step - accuracy: 0.7183 - loss: 0.0443 - val_accuracy: 0.5838 - val_loss: 0.8812\n",
            "Epoch 25/30\n",
            "\u001b[1m536/536\u001b[0m \u001b[32m━━━━━━━━━━━━━━━━━━━━\u001b[0m\u001b[37m\u001b[0m \u001b[1m55s\u001b[0m 102ms/step - accuracy: 0.7121 - loss: 0.0441 - val_accuracy: 0.5805 - val_loss: 0.9573\n",
            "Epoch 26/30\n",
            "\u001b[1m536/536\u001b[0m \u001b[32m━━━━━━━━━━━━━━━━━━━━\u001b[0m\u001b[37m\u001b[0m \u001b[1m85s\u001b[0m 108ms/step - accuracy: 0.7083 - loss: 0.0441 - val_accuracy: 0.6118 - val_loss: 0.9505\n",
            "Epoch 27/30\n",
            "\u001b[1m536/536\u001b[0m \u001b[32m━━━━━━━━━━━━━━━━━━━━\u001b[0m\u001b[37m\u001b[0m \u001b[1m81s\u001b[0m 107ms/step - accuracy: 0.7239 - loss: 0.0430 - val_accuracy: 0.5728 - val_loss: 0.9681\n",
            "Epoch 28/30\n",
            "\u001b[1m536/536\u001b[0m \u001b[32m━━━━━━━━━━━━━━━━━━━━\u001b[0m\u001b[37m\u001b[0m \u001b[1m81s\u001b[0m 105ms/step - accuracy: 0.7195 - loss: 0.0425 - val_accuracy: 0.5917 - val_loss: 1.0027\n",
            "Epoch 29/30\n",
            "\u001b[1m536/536\u001b[0m \u001b[32m━━━━━━━━━━━━━━━━━━━━\u001b[0m\u001b[37m\u001b[0m \u001b[1m75s\u001b[0m 92ms/step - accuracy: 0.7300 - loss: 0.0421 - val_accuracy: 0.6069 - val_loss: 1.0192\n",
            "Epoch 30/30\n",
            "\u001b[1m536/536\u001b[0m \u001b[32m━━━━━━━━━━━━━━━━━━━━\u001b[0m\u001b[37m\u001b[0m \u001b[1m83s\u001b[0m 95ms/step - accuracy: 0.7331 - loss: 0.0387 - val_accuracy: 0.6193 - val_loss: 1.0318\n",
            "🎉 Training complete. Model saved to Google Drive.\n"
          ]
        }
      ]
    },
    {
      "cell_type": "code",
      "source": [],
      "metadata": {
        "id": "C19z_FJWYECP"
      },
      "execution_count": null,
      "outputs": []
    },
    {
      "cell_type": "code",
      "source": [],
      "metadata": {
        "id": "lHZ8gbZsYEEk"
      },
      "execution_count": null,
      "outputs": []
    },
    {
      "cell_type": "code",
      "source": [],
      "metadata": {
        "id": "NXTu6AvxYEHR"
      },
      "execution_count": null,
      "outputs": []
    },
    {
      "cell_type": "code",
      "source": [],
      "metadata": {
        "id": "eQwQre7VYEKY"
      },
      "execution_count": null,
      "outputs": []
    },
    {
      "cell_type": "code",
      "source": [],
      "metadata": {
        "id": "7DyUz3fmYENF"
      },
      "execution_count": null,
      "outputs": []
    },
    {
      "cell_type": "code",
      "source": [],
      "metadata": {
        "id": "jjn3QaZYYEQf"
      },
      "execution_count": null,
      "outputs": []
    },
    {
      "cell_type": "code",
      "source": [],
      "metadata": {
        "id": "rzcoSSupUHCC"
      },
      "execution_count": null,
      "outputs": []
    },
    {
      "cell_type": "code",
      "source": [],
      "metadata": {
        "id": "1nYwgTiLUHFW"
      },
      "execution_count": null,
      "outputs": []
    },
    {
      "cell_type": "code",
      "source": [],
      "metadata": {
        "id": "-yEnoDa6PDcy"
      },
      "execution_count": null,
      "outputs": []
    }
  ]
}